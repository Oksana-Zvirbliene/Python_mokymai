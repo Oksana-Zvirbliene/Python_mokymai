{
 "cells": [
  {
   "cell_type": "code",
   "execution_count": 24,
   "metadata": {},
   "outputs": [
    {
     "name": "stdout",
     "output_type": "stream",
     "text": [
      "{1, 2, 3, 4, 5, 6, 7, 8, 9, 15}\n",
      "{3, 8, 9, 11, 15}\n",
      "{8, 9, 3, 15}\n",
      "[8, 9, 3, 15]\n",
      "[3, 8, 9, 15]\n"
     ]
    }
   ],
   "source": [
    "# Rasti pasikartojančius elementus tarp dviejų list'ų\n",
    "a = [1,2,3,4,5,6,7,8,9,15]\n",
    "b = [3,8,9,11,15]\n",
    "\n",
    "a = set(a)\n",
    "print(a)\n",
    "b = set(b)\n",
    "print(b)\n",
    "c = b.intersection(a)\n",
    "print(c)\n",
    "\n",
    "c1 = list(c)\n",
    "print(c1)\n",
    "print(sorted(c1))\n",
    "\n"
   ]
  },
  {
   "cell_type": "code",
   "execution_count": 44,
   "metadata": {},
   "outputs": [
    {
     "name": "stdout",
     "output_type": "stream",
     "text": [
      "{800, 1, 2, 900, 5, 8, 10, -20, 12, 14, -9, -8, -6, -900}\n",
      "[800, 1, 2, 900, 5, 8, 10, -20, 12, 14, -9, -8, -6, -900]\n",
      "[-900, -20, -9, -8, -6, 1, 2, 5, 8, 10, 12, 14, 800, 900]\n"
     ]
    }
   ],
   "source": [
    "# 2. Išfiltruoti unikalius teigiamus numeris iš sąrašo\n",
    "x = [1, 5, 1, 2, 8, -9, 10, 1, -8, -900, 14, 5, -8, 2, 1, -20, 900, 800, -6, -8, 12, 1]\n",
    "x = set(x)\n",
    "print(x)\n",
    "x = list(x)\n",
    "print(x)\n",
    "print(sorted(x))\n",
    "\n",
    "\n",
    "\n"
   ]
  },
  {
   "cell_type": "code",
   "execution_count": 46,
   "metadata": {},
   "outputs": [
    {
     "name": "stdout",
     "output_type": "stream",
     "text": [
      "[-900, -20, -9, -8, -6, 1, 2, 5, 8, 10, 12, 14, 800, 900]\n"
     ]
    },
    {
     "data": {
      "text/plain": [
       "[1, 2, 5, 8, 10, 12, 14, 800, 900]"
      ]
     },
     "execution_count": 46,
     "metadata": {},
     "output_type": "execute_result"
    }
   ],
   "source": [
    "x = [-900, -20, -9, -8, -6, 1, 2, 5, 8, 10, 12, 14, 800, 900]\n",
    "print(x)\n",
    "x[5:]"
   ]
  },
  {
   "cell_type": "code",
   "execution_count": 1,
   "metadata": {},
   "outputs": [
    {
     "name": "stdout",
     "output_type": "stream",
     "text": [
      "12.33\n"
     ]
    }
   ],
   "source": [
    "# Paskaičiuoti pelną pardavus visas prekes. Informacija apie kainą ir kiekius yra pateikiama kaip dictionary, atsakymą suapvalinti iki 2 skaičių po kablelio.\n",
    "\n",
    "x = { \"cost_price\": 32.67,\n",
    "\"sell_price\": 45.00,\n",
    "\"inventory\": 1212 }\n",
    "\n",
    "pelnas = round(45.00 - 32.67, 2)\n",
    "print(pelnas)\n"
   ]
  },
  {
   "cell_type": "code",
   "execution_count": 24,
   "metadata": {},
   "outputs": [
    {
     "name": "stdout",
     "output_type": "stream",
     "text": [
      "11\n",
      "11\n",
      "11\n",
      "11\n",
      "11\n",
      "11\n",
      "11\n",
      "11\n",
      "11\n",
      "11\n"
     ]
    }
   ],
   "source": [
    "# Leiskite įvesti 10 žodžių, programa turi atsakyti į tokius klausimus:\n",
    "# Kiek žodžių yra ilgesnių nei 10 simbolių\n",
    "# Kuris žodis yra ilgiausias ir trumpiausias\n",
    "# Ar nors vienas žodis yra palindromas, jei taip, koks arba kokie tai žodžiai\n",
    "\n",
    "# Palindromas - atvirkščiai skaitant žodį, gaunasi tas pats žodis.\n",
    "# savas -> savas\n",
    "\n",
    "#zodiai = input('iveskite zodzius')\n",
    "\n",
    "zodziai = ['obuolys', 'mama', 'tetis', 'atsitiktinumas', 'dviratis', 'graziausias', 'mandagus', 'kompiuteris', 'duona', 'savas' ]\n",
    "\n",
    "for zodis in zodziai:\n",
    "    if len()\n",
    "    print(len(zodziai[5]) )\n",
    "\n",
    "# len(zodziai[5]) \n",
    "\n",
    "\n",
    "\n",
    "# uzstrigau su sia uzduotim...\n",
    "\n",
    "\n",
    "\n",
    "\n",
    "\n",
    "\n"
   ]
  },
  {
   "cell_type": "code",
   "execution_count": null,
   "metadata": {},
   "outputs": [],
   "source": [
    "#  Turėdami list’ą, gaukite didžiausią šalia esančių skaičių sandaugą\n",
    "\n",
    "my_list = [3, 6, -2, -5, 7, 3]\n",
    "\n",
    "\n",
    "\n"
   ]
  }
 ],
 "metadata": {
  "kernelspec": {
   "display_name": "Python 3",
   "language": "python",
   "name": "python3"
  },
  "language_info": {
   "codemirror_mode": {
    "name": "ipython",
    "version": 3
   },
   "file_extension": ".py",
   "mimetype": "text/x-python",
   "name": "python",
   "nbconvert_exporter": "python",
   "pygments_lexer": "ipython3",
   "version": "3.11.1"
  },
  "orig_nbformat": 4,
  "vscode": {
   "interpreter": {
    "hash": "827bed87de4586fd733a700e497921728b037beef3ab73ffba1a3753ab00f6e3"
   }
  }
 },
 "nbformat": 4,
 "nbformat_minor": 2
}

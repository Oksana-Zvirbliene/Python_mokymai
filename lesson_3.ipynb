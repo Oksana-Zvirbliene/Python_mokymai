{
 "cells": [
  {
   "cell_type": "code",
   "execution_count": 1,
   "metadata": {},
   "outputs": [
    {
     "name": "stdout",
     "output_type": "stream",
     "text": [
      "pries\n",
      "140710321513256\n",
      "140710321513256\n",
      "po\n",
      "140710321513256\n",
      "140710321513416\n",
      "1\n",
      "6\n"
     ]
    }
   ],
   "source": [
    "# immutable variable:\n",
    "a = 1\n",
    "b = a\n",
    "print ('pries')\n",
    "print( id(a) )\n",
    "print( id(b) )\n",
    "b += 5\n",
    "print ('po')\n",
    "print( id(a) )\n",
    "print( id(b) )\n",
    "print (a)\n",
    "print (b)"
   ]
  },
  {
   "cell_type": "code",
   "execution_count": 2,
   "metadata": {},
   "outputs": [
    {
     "name": "stdout",
     "output_type": "stream",
     "text": [
      "pries\n",
      "2176090747584\n",
      "2176090747584\n",
      "po\n",
      "2176090747584\n",
      "2176090747584\n",
      "[1, 2, 3, 10]\n",
      "[1, 2, 3, 10]\n"
     ]
    }
   ],
   "source": [
    "# mutable variable:\n",
    "a = [1,2,3]\n",
    "b = a\n",
    "print ('pries')\n",
    "print( id(a) )\n",
    "print( id(b) )\n",
    "b.append(10)\n",
    "print ('po')\n",
    "print( id(a) )\n",
    "print( id(b) )\n",
    "print (a)\n",
    "print (b)"
   ]
  },
  {
   "cell_type": "code",
   "execution_count": 3,
   "metadata": {},
   "outputs": [
    {
     "name": "stdout",
     "output_type": "stream",
     "text": [
      "pries\n",
      "2176089938496\n",
      "2176090927488\n",
      "po\n",
      "2176089938496\n",
      "2176090927488\n",
      "[1, 2, 3]\n",
      "[1, 2, 3, 10]\n"
     ]
    }
   ],
   "source": [
    "# fixing mutable variable #1\n",
    "a = [1,2,3]\n",
    "b = a.copy()\n",
    "print ('pries')\n",
    "print( id(a) )\n",
    "print( id(b) )\n",
    "b.append(10)\n",
    "print ('po')\n",
    "print( id(a) )\n",
    "print( id(b) )\n",
    "print (a)\n",
    "print (b)"
   ]
  },
  {
   "cell_type": "code",
   "execution_count": 4,
   "metadata": {},
   "outputs": [
    {
     "name": "stdout",
     "output_type": "stream",
     "text": [
      "pries\n",
      "2176090928128\n",
      "2176090925696\n",
      "po\n",
      "2176090928128\n",
      "2176090925696\n",
      "[1, 2, ['a', 'b', 'c']]\n",
      "[1, 2, ['a', 'b', 'c']]\n"
     ]
    }
   ],
   "source": [
    "# where fix #1 doesn't work\n",
    "a = [1,2, [ 'a', 'b' ] ]\n",
    "b = a.copy()\n",
    "print ('pries')\n",
    "print( id(a) )\n",
    "print( id(b) )\n",
    "b[-1].append( 'c' )\n",
    "print ('po')\n",
    "print( id(a) )\n",
    "print( id(b) )\n",
    "print (a)\n",
    "print (b)"
   ]
  },
  {
   "cell_type": "code",
   "execution_count": 5,
   "metadata": {},
   "outputs": [
    {
     "name": "stdout",
     "output_type": "stream",
     "text": [
      "pries\n",
      "2176090737280\n",
      "2176090926976\n",
      "po\n",
      "2176090737280\n",
      "2176090926976\n",
      "[1, 2, ['a', 'b']]\n",
      "[1, 2, ['a', 'b', 'c']]\n"
     ]
    }
   ],
   "source": [
    "# fixing mutable variable #2\n",
    "import copy\n",
    "a = [1,2, [ 'a', 'b' ] ]\n",
    "b = copy.deepcopy(a)\n",
    "print ('pries')\n",
    "print( id(a) )\n",
    "print( id(b) )\n",
    "b[-1].append( 'c' )\n",
    "print ('po')\n",
    "print( id(a) )\n",
    "print( id(b) )\n",
    "print (a)\n",
    "print (b)"
   ]
  },
  {
   "cell_type": "code",
   "execution_count": 12,
   "metadata": {},
   "outputs": [
    {
     "name": "stdout",
     "output_type": "stream",
     "text": [
      "<class 'tuple'>\n",
      "5\n",
      "(5, 'b')\n"
     ]
    }
   ],
   "source": [
    "# TUPLE\n",
    "my_tuple = (1,5,'b')\n",
    "print(type(my_tuple))\n",
    "# my_tuple + 5 #klaida\n",
    "my_tuple + (54,2)\n",
    "print(my_tuple[1])\n",
    "print(my_tuple[1:])"
   ]
  },
  {
   "cell_type": "code",
   "execution_count": 15,
   "metadata": {},
   "outputs": [
    {
     "name": "stdout",
     "output_type": "stream",
     "text": [
      "1\n",
      "1\n"
     ]
    }
   ],
   "source": [
    "print(my_tuple.count(1))\n",
    "print(my_tuple.index(5))"
   ]
  },
  {
   "cell_type": "code",
   "execution_count": 18,
   "metadata": {},
   "outputs": [
    {
     "name": "stdout",
     "output_type": "stream",
     "text": [
      "3\n",
      "False\n",
      "True\n"
     ]
    }
   ],
   "source": [
    "print(len(my_tuple))\n",
    "print(100 in my_tuple)\n",
    "print(1 in my_tuple)"
   ]
  },
  {
   "cell_type": "code",
   "execution_count": 22,
   "metadata": {},
   "outputs": [
    {
     "name": "stdout",
     "output_type": "stream",
     "text": [
      "[1, 5, 'b']\n",
      "<class 'list'>\n",
      "(1, 5, 'b')\n"
     ]
    }
   ],
   "source": [
    "my_list = list(my_tuple)\n",
    "print(my_list)\n",
    "print(type(my_list))\n",
    "print(my_tuple)"
   ]
  },
  {
   "cell_type": "code",
   "execution_count": 31,
   "metadata": {},
   "outputs": [
    {
     "name": "stdout",
     "output_type": "stream",
     "text": [
      "(1, 2, ['3', 4, 5], [6, [7, 8]])\n",
      "[6, [7, 8]]\n",
      "[7, 8]\n",
      "8\n"
     ]
    }
   ],
   "source": [
    "my_tuple = (1, 2, ['3', 4, 5], [6, [7, (8)]])\n",
    "print(my_tuple)\n",
    "print(my_tuple[-1])\n",
    "print(my_tuple[-1][-1])\n",
    "print(my_tuple[-1][-1][-1])"
   ]
  },
  {
   "cell_type": "code",
   "execution_count": 35,
   "metadata": {},
   "outputs": [
    {
     "name": "stdout",
     "output_type": "stream",
     "text": [
      "[11, [222, 33], 44, 55]\n",
      "[222, 33]\n"
     ]
    }
   ],
   "source": [
    "tuple1 = (11, [222, 33], 44, 55)\n",
    "my_list = list(tuple1)\n",
    "print(my_list)\n",
    "print(my_list[1])"
   ]
  },
  {
   "cell_type": "code",
   "execution_count": null,
   "metadata": {},
   "outputs": [],
   "source": [
    "tuple1 = (11, [222, 33], 44, 55)\n",
    "list1 = list(tuple1)\n",
    "list1[1][1] = 22\n",
    "tuple1 = tuple(list1)\n",
    "print(tuple1)"
   ]
  },
  {
   "cell_type": "code",
   "execution_count": 54,
   "metadata": {},
   "outputs": [
    {
     "name": "stdout",
     "output_type": "stream",
     "text": [
      "(11, [222, 22], 44, 55)\n"
     ]
    }
   ],
   "source": [
    "tuple1 = (11, [222, 33], 44, 55)\n",
    "tuple1[1][1] = 22\n",
    "print(tuple1)\n"
   ]
  },
  {
   "cell_type": "code",
   "execution_count": 51,
   "metadata": {},
   "outputs": [],
   "source": [
    "# tuple1 = (5,10,15) #mano\n",
    "# tuple2 = (1,3,7)\n",
    "# tuple = tuple1 + tuple2\n",
    "# print(tuple)\n",
    "# tuple.count(10)\n",
    "# tuple.index(1)\n",
    "# tuple.index(15)\n"
   ]
  },
  {
   "cell_type": "code",
   "execution_count": 52,
   "metadata": {},
   "outputs": [
    {
     "name": "stdout",
     "output_type": "stream",
     "text": [
      "(1, 2, 76, 6, 88, 3, 1, 1)\n"
     ]
    },
    {
     "ename": "TypeError",
     "evalue": "'list' object is not callable",
     "output_type": "error",
     "traceback": [
      "\u001b[1;31m---------------------------------------------------------------------------\u001b[0m",
      "\u001b[1;31mTypeError\u001b[0m                                 Traceback (most recent call last)",
      "Cell \u001b[1;32mIn[52], line 6\u001b[0m\n\u001b[0;32m      4\u001b[0m tuple_new \u001b[39m=\u001b[39m tuple2 \u001b[39m+\u001b[39m tuple3\n\u001b[0;32m      5\u001b[0m \u001b[39mprint\u001b[39m(tuple_new)\n\u001b[1;32m----> 6\u001b[0m list_new \u001b[39m=\u001b[39m \u001b[39mlist\u001b[39;49m(tuple_new)\n\u001b[0;32m      7\u001b[0m list_new\u001b[39m.\u001b[39mpop(\u001b[39m-\u001b[39m\u001b[39m1\u001b[39m)\n\u001b[0;32m      8\u001b[0m tuple_new \u001b[39m=\u001b[39m \u001b[39mtuple\u001b[39m(list_new)\n",
      "\u001b[1;31mTypeError\u001b[0m: 'list' object is not callable"
     ]
    }
   ],
   "source": [
    "#kirilo\n",
    "tuple2 = (1, 2, 76, 6)\n",
    "tuple3 = (88, 3, 1, 1)\n",
    "tuple_new = tuple2 + tuple3\n",
    "print(tuple_new)\n",
    "list_new = list(tuple_new)\n",
    "list_new.pop(-1)\n",
    "tuple_new = tuple(list_new)\n",
    "print(tuple_new)\n",
    "list_new = list(tuple_new)\n",
    "list_new.sort()\n",
    "tuple_new = tuple(list_new)\n",
    "print(tuple_new)\n",
    "print(tuple_new.count(1))\n",
    "print(tuple_new[-1])"
   ]
  },
  {
   "cell_type": "code",
   "execution_count": 5,
   "metadata": {},
   "outputs": [
    {
     "name": "stdout",
     "output_type": "stream",
     "text": [
      "range(0, 10)\n",
      "<class 'range'>\n",
      "[0, 1, 2, 3, 4, 5, 6, 7, 8, 9]\n",
      "[-5, -4, -3, -2, -1, 0, 1, 2, 3, 4, 5, 6, 7, 8, 9]\n",
      "[-5, -3, -1, 1, 3, 5, 7, 9]\n"
     ]
    }
   ],
   "source": [
    "# range\n",
    "\n",
    "print(range(10))\n",
    "print(type(range(10)))\n",
    "print(list(range(10)))\n",
    "print(list(range(-5,10)))\n",
    "print(list(range(-5,10,2)))"
   ]
  },
  {
   "cell_type": "code",
   "execution_count": 7,
   "metadata": {},
   "outputs": [
    {
     "name": "stdout",
     "output_type": "stream",
     "text": [
      "Vilnius\n",
      "['Vilnius', 'Kaunas', 'Klaipeda']\n",
      "Vilnius yra nuostabs miestas\n",
      "Kaunas\n",
      "['Vilnius', 'Kaunas', 'Klaipeda']\n",
      "Kaunas yra nuostabs miestas\n",
      "Klaipeda\n",
      "['Vilnius', 'Kaunas', 'Klaipeda']\n",
      "Klaipeda yra nuostabs miestas\n"
     ]
    }
   ],
   "source": [
    "# for loop (for ciklas)\n",
    "\n",
    "miestai = ['Vilnius', 'Kaunas', 'Klaipeda']\n",
    "# for sugalvotas zodis in <sarasa/tuple/list/tesktas/range\n",
    "for miestas in miestai:\n",
    "    print(miestas)\n",
    "    print(miestai)\n",
    "    print(f'{miestas} yra nuostabs miestas')"
   ]
  },
  {
   "cell_type": "code",
   "execution_count": 9,
   "metadata": {},
   "outputs": [
    {
     "name": "stdout",
     "output_type": "stream",
     "text": [
      "9\n",
      "64\n",
      "169\n",
      "324\n",
      "529\n",
      "784\n",
      "1089\n",
      "1444\n",
      "1849\n"
     ]
    }
   ],
   "source": [
    "for number in range(3,46,5):\n",
    "    print(number**2)\n"
   ]
  },
  {
   "cell_type": "code",
   "execution_count": 12,
   "metadata": {},
   "outputs": [
    {
     "name": "stdout",
     "output_type": "stream",
     "text": [
      "tarpine suma:13.4\n",
      "galutine suma:13.4\n",
      "tarpine suma:14.85\n",
      "galutine suma:14.85\n",
      "tarpine suma:168.09\n",
      "galutine suma:168.09\n"
     ]
    }
   ],
   "source": [
    "mokejimai = [13.4,1.45,153.24]\n",
    "suma = 0\n",
    "for mok in mokejimai:\n",
    "    suma += mok\n",
    "    print(f'tarpine suma:{suma}')\n",
    "    print(f'galutine suma:{suma}')\n"
   ]
  },
  {
   "cell_type": "code",
   "execution_count": 13,
   "metadata": {},
   "outputs": [
    {
     "name": "stdout",
     "output_type": "stream",
     "text": [
      "168.09\n"
     ]
    }
   ],
   "source": [
    "print(sum(mokejimai))"
   ]
  },
  {
   "cell_type": "code",
   "execution_count": null,
   "metadata": {},
   "outputs": [],
   "source": [
    "# https://docs.python.org/3/library/functions.html"
   ]
  },
  {
   "cell_type": "code",
   "execution_count": 15,
   "metadata": {},
   "outputs": [
    {
     "name": "stdout",
     "output_type": "stream",
     "text": [
      "Oksana\n"
     ]
    }
   ],
   "source": [
    "numan_input = input('koks jusu vardas?')\n",
    "print(numan_input)"
   ]
  },
  {
   "cell_type": "code",
   "execution_count": 17,
   "metadata": {},
   "outputs": [
    {
     "name": "stdout",
     "output_type": "stream",
     "text": [
      "[1, 2, 3, 4, 5, 6, 7, 8, 9, 10, 11, 12, 13]\n",
      "[1, 2, 3, 4, 5, 6, 7, 8, 9, 10]\n",
      "[1, 2, 3, 4, 5, 6, 7, 8, 9, 10, 11, 12, 13]\n",
      "[1, 2, 3, 4, 5, 6, 7, 8, 9, 10]\n",
      "[1, 2, 3, 4, 5, 6, 7, 8, 9, 10, 11, 12, 13]\n",
      "[1, 2, 3, 4, 5, 6, 7, 8, 9, 10]\n",
      "[1, 2, 3, 4, 5, 6, 7, 8, 9, 10, 11, 12, 13]\n",
      "[1, 2, 3, 4, 5, 6, 7, 8, 9, 10]\n",
      "[1, 2, 3, 4, 5, 6, 7, 8, 9, 10, 11, 12, 13]\n",
      "[1, 2, 3, 4, 5, 6, 7, 8, 9, 10]\n",
      "[1, 2, 3, 4, 5, 6, 7, 8, 9, 10, 11, 12, 13]\n",
      "[1, 2, 3, 4, 5, 6, 7, 8, 9, 10]\n",
      "[1, 2, 3, 4, 5, 6, 7, 8, 9, 10, 11, 12, 13]\n",
      "[1, 2, 3, 4, 5, 6, 7, 8, 9, 10]\n",
      "[1, 2, 3, 4, 5, 6, 7, 8, 9, 10, 11, 12, 13]\n",
      "[1, 2, 3, 4, 5, 6, 7, 8, 9, 10]\n",
      "[1, 2, 3, 4, 5, 6, 7, 8, 9, 10, 11, 12, 13]\n",
      "[1, 2, 3, 4, 5, 6, 7, 8, 9, 10]\n",
      "[1, 2, 3, 4, 5, 6, 7, 8, 9, 10, 11, 12, 13]\n",
      "[1, 2, 3, 4, 5, 6, 7, 8, 9, 10]\n",
      "[1, 2, 3, 4, 5, 6, 7, 8, 9, 10, 11, 12, 13]\n",
      "[1, 2, 3, 4, 5, 6, 7, 8, 9, 10]\n",
      "[1, 2, 3, 4, 5, 6, 7, 8, 9, 10, 11, 12, 13]\n",
      "[1, 2, 3, 4, 5, 6, 7, 8, 9, 10]\n",
      "[1, 2, 3, 4, 5, 6, 7, 8, 9, 10, 11, 12, 13]\n",
      "[1, 2, 3, 4, 5, 6, 7, 8, 9, 10]\n"
     ]
    }
   ],
   "source": [
    "skaiciai = [1,2,3,4,5,6,7,8,9,10,11,12,13]\n",
    "for skaitmuo in skaiciai:\n",
    "    print(skaiciai)\n",
    "    print(skaiciai[:10])"
   ]
  },
  {
   "cell_type": "code",
   "execution_count": 26,
   "metadata": {},
   "outputs": [
    {
     "name": "stdout",
     "output_type": "stream",
     "text": [
      "1\n",
      "2\n",
      "3\n",
      "4\n",
      "5\n",
      "6\n",
      "7\n",
      "8\n",
      "9\n",
      "10\n",
      "antra dalis\n",
      "1275\n"
     ]
    }
   ],
   "source": [
    "#teisingas\n",
    "for skaicius in range (1,11):\n",
    "    print(skaicius)\n",
    "\n",
    "print ('antra dalis')\n",
    "suma = 0\n",
    "for skaicius in range (1,51):\n",
    "    # suma = suma + skaicius\n",
    "    suma += skaicius\n",
    "print(suma)"
   ]
  },
  {
   "cell_type": "code",
   "execution_count": 27,
   "metadata": {},
   "outputs": [
    {
     "name": "stdout",
     "output_type": "stream",
     "text": [
      "<class 'str'>\n",
      "2\n",
      "<class 'int'>\n",
      "2x1 = 2\n",
      "2x2 = 4\n",
      "2x3 = 6\n",
      "2x4 = 8\n",
      "2x5 = 10\n",
      "2x6 = 12\n",
      "2x7 = 14\n",
      "2x8 = 16\n",
      "2x9 = 18\n",
      "2x10 = 20\n"
     ]
    }
   ],
   "source": [
    "skaicius = input('iveskite skaiciu')\n",
    "print( type(skaicius) )\n",
    "skaicius = int( skaicius )\n",
    "print( skaicius)\n",
    "print( type(skaicius) )\n",
    "\n",
    "for x in range(1,11):\n",
    "    print(f'{skaicius}x{x} = {skaicius*x}')\n"
   ]
  },
  {
   "cell_type": "code",
   "execution_count": 32,
   "metadata": {},
   "outputs": [
    {
     "name": "stdout",
     "output_type": "stream",
     "text": [
      "Pirmadienis\n",
      "10\n",
      "mazo cilko pabaiga\n",
      "didelio cilko pabaiga\n",
      "11\n",
      "mazo cilko pabaiga\n",
      "didelio cilko pabaiga\n",
      "12\n",
      "mazo cilko pabaiga\n",
      "didelio cilko pabaiga\n",
      "13\n",
      "mazo cilko pabaiga\n",
      "didelio cilko pabaiga\n",
      "14\n",
      "mazo cilko pabaiga\n",
      "didelio cilko pabaiga\n",
      "15\n",
      "mazo cilko pabaiga\n",
      "didelio cilko pabaiga\n",
      "16\n",
      "mazo cilko pabaiga\n",
      "didelio cilko pabaiga\n",
      "17\n",
      "mazo cilko pabaiga\n",
      "didelio cilko pabaiga\n",
      "18\n",
      "mazo cilko pabaiga\n",
      "didelio cilko pabaiga\n",
      "19\n",
      "mazo cilko pabaiga\n",
      "didelio cilko pabaiga\n",
      "Antradienis\n",
      "10\n",
      "mazo cilko pabaiga\n",
      "didelio cilko pabaiga\n",
      "11\n",
      "mazo cilko pabaiga\n",
      "didelio cilko pabaiga\n",
      "12\n",
      "mazo cilko pabaiga\n",
      "didelio cilko pabaiga\n",
      "13\n",
      "mazo cilko pabaiga\n",
      "didelio cilko pabaiga\n",
      "14\n",
      "mazo cilko pabaiga\n",
      "didelio cilko pabaiga\n",
      "15\n",
      "mazo cilko pabaiga\n",
      "didelio cilko pabaiga\n",
      "16\n",
      "mazo cilko pabaiga\n",
      "didelio cilko pabaiga\n",
      "17\n",
      "mazo cilko pabaiga\n",
      "didelio cilko pabaiga\n",
      "18\n",
      "mazo cilko pabaiga\n",
      "didelio cilko pabaiga\n",
      "19\n",
      "mazo cilko pabaiga\n",
      "didelio cilko pabaiga\n",
      "Treciadienis\n",
      "10\n",
      "mazo cilko pabaiga\n",
      "didelio cilko pabaiga\n",
      "11\n",
      "mazo cilko pabaiga\n",
      "didelio cilko pabaiga\n",
      "12\n",
      "mazo cilko pabaiga\n",
      "didelio cilko pabaiga\n",
      "13\n",
      "mazo cilko pabaiga\n",
      "didelio cilko pabaiga\n",
      "14\n",
      "mazo cilko pabaiga\n",
      "didelio cilko pabaiga\n",
      "15\n",
      "mazo cilko pabaiga\n",
      "didelio cilko pabaiga\n",
      "16\n",
      "mazo cilko pabaiga\n",
      "didelio cilko pabaiga\n",
      "17\n",
      "mazo cilko pabaiga\n",
      "didelio cilko pabaiga\n",
      "18\n",
      "mazo cilko pabaiga\n",
      "didelio cilko pabaiga\n",
      "19\n",
      "mazo cilko pabaiga\n",
      "didelio cilko pabaiga\n",
      "Ketvirtadienis\n",
      "10\n",
      "mazo cilko pabaiga\n",
      "didelio cilko pabaiga\n",
      "11\n",
      "mazo cilko pabaiga\n",
      "didelio cilko pabaiga\n",
      "12\n",
      "mazo cilko pabaiga\n",
      "didelio cilko pabaiga\n",
      "13\n",
      "mazo cilko pabaiga\n",
      "didelio cilko pabaiga\n",
      "14\n",
      "mazo cilko pabaiga\n",
      "didelio cilko pabaiga\n",
      "15\n",
      "mazo cilko pabaiga\n",
      "didelio cilko pabaiga\n",
      "16\n",
      "mazo cilko pabaiga\n",
      "didelio cilko pabaiga\n",
      "17\n",
      "mazo cilko pabaiga\n",
      "didelio cilko pabaiga\n",
      "18\n",
      "mazo cilko pabaiga\n",
      "didelio cilko pabaiga\n",
      "19\n",
      "mazo cilko pabaiga\n",
      "didelio cilko pabaiga\n",
      "Penktadienis\n",
      "10\n",
      "mazo cilko pabaiga\n",
      "didelio cilko pabaiga\n",
      "11\n",
      "mazo cilko pabaiga\n",
      "didelio cilko pabaiga\n",
      "12\n",
      "mazo cilko pabaiga\n",
      "didelio cilko pabaiga\n",
      "13\n",
      "mazo cilko pabaiga\n",
      "didelio cilko pabaiga\n",
      "14\n",
      "mazo cilko pabaiga\n",
      "didelio cilko pabaiga\n",
      "15\n",
      "mazo cilko pabaiga\n",
      "didelio cilko pabaiga\n",
      "16\n",
      "mazo cilko pabaiga\n",
      "didelio cilko pabaiga\n",
      "17\n",
      "mazo cilko pabaiga\n",
      "didelio cilko pabaiga\n",
      "18\n",
      "mazo cilko pabaiga\n",
      "didelio cilko pabaiga\n",
      "19\n",
      "mazo cilko pabaiga\n",
      "didelio cilko pabaiga\n",
      "Sestadienis\n",
      "10\n",
      "mazo cilko pabaiga\n",
      "didelio cilko pabaiga\n",
      "11\n",
      "mazo cilko pabaiga\n",
      "didelio cilko pabaiga\n",
      "12\n",
      "mazo cilko pabaiga\n",
      "didelio cilko pabaiga\n",
      "13\n",
      "mazo cilko pabaiga\n",
      "didelio cilko pabaiga\n",
      "14\n",
      "mazo cilko pabaiga\n",
      "didelio cilko pabaiga\n",
      "15\n",
      "mazo cilko pabaiga\n",
      "didelio cilko pabaiga\n",
      "16\n",
      "mazo cilko pabaiga\n",
      "didelio cilko pabaiga\n",
      "17\n",
      "mazo cilko pabaiga\n",
      "didelio cilko pabaiga\n",
      "18\n",
      "mazo cilko pabaiga\n",
      "didelio cilko pabaiga\n",
      "19\n",
      "mazo cilko pabaiga\n",
      "didelio cilko pabaiga\n",
      "Sekmadienis\n",
      "10\n",
      "mazo cilko pabaiga\n",
      "didelio cilko pabaiga\n",
      "11\n",
      "mazo cilko pabaiga\n",
      "didelio cilko pabaiga\n",
      "12\n",
      "mazo cilko pabaiga\n",
      "didelio cilko pabaiga\n",
      "13\n",
      "mazo cilko pabaiga\n",
      "didelio cilko pabaiga\n",
      "14\n",
      "mazo cilko pabaiga\n",
      "didelio cilko pabaiga\n",
      "15\n",
      "mazo cilko pabaiga\n",
      "didelio cilko pabaiga\n",
      "16\n",
      "mazo cilko pabaiga\n",
      "didelio cilko pabaiga\n",
      "17\n",
      "mazo cilko pabaiga\n",
      "didelio cilko pabaiga\n",
      "18\n",
      "mazo cilko pabaiga\n",
      "didelio cilko pabaiga\n",
      "19\n",
      "mazo cilko pabaiga\n",
      "didelio cilko pabaiga\n",
      "[('Pirmadienis', 10), ('Pirmadienis', 11), ('Pirmadienis', 12), ('Pirmadienis', 13), ('Pirmadienis', 14), ('Pirmadienis', 15), ('Pirmadienis', 16), ('Pirmadienis', 17), ('Pirmadienis', 18), ('Pirmadienis', 19), ('Antradienis', 10), ('Antradienis', 11), ('Antradienis', 12), ('Antradienis', 13), ('Antradienis', 14), ('Antradienis', 15), ('Antradienis', 16), ('Antradienis', 17), ('Antradienis', 18), ('Antradienis', 19), ('Treciadienis', 10), ('Treciadienis', 11), ('Treciadienis', 12), ('Treciadienis', 13), ('Treciadienis', 14), ('Treciadienis', 15), ('Treciadienis', 16), ('Treciadienis', 17), ('Treciadienis', 18), ('Treciadienis', 19), ('Ketvirtadienis', 10), ('Ketvirtadienis', 11), ('Ketvirtadienis', 12), ('Ketvirtadienis', 13), ('Ketvirtadienis', 14), ('Ketvirtadienis', 15), ('Ketvirtadienis', 16), ('Ketvirtadienis', 17), ('Ketvirtadienis', 18), ('Ketvirtadienis', 19), ('Penktadienis', 10), ('Penktadienis', 11), ('Penktadienis', 12), ('Penktadienis', 13), ('Penktadienis', 14), ('Penktadienis', 15), ('Penktadienis', 16), ('Penktadienis', 17), ('Penktadienis', 18), ('Penktadienis', 19), ('Sestadienis', 10), ('Sestadienis', 11), ('Sestadienis', 12), ('Sestadienis', 13), ('Sestadienis', 14), ('Sestadienis', 15), ('Sestadienis', 16), ('Sestadienis', 17), ('Sestadienis', 18), ('Sestadienis', 19), ('Sekmadienis', 10), ('Sekmadienis', 11), ('Sekmadienis', 12), ('Sekmadienis', 13), ('Sekmadienis', 14), ('Sekmadienis', 15), ('Sekmadienis', 16), ('Sekmadienis', 17), ('Sekmadienis', 18), ('Sekmadienis', 19)]\n"
     ]
    }
   ],
   "source": [
    "dienos = ('Pirmadienis', 'Antradienis', 'Treciadienis','Ketvirtadienis', 'Penktadienis', 'Sestadienis' , 'Sekmadienis')\n",
    "valandos = [10, 11, 12, 13, 14, 15, 16, 17, 18, 19]\n",
    "\n",
    "kombinacijos =[]\n",
    "\n",
    "for diena in dienos:\n",
    "    print(diena)\n",
    "    for valanda in valandos:\n",
    "        print(valanda)\n",
    "        kombinacijos.append((diena, valanda))\n",
    "        print(\"mazo cilko pabaiga\")\n",
    "        print(\"didelio cilko pabaiga\")\n",
    "print(kombinacijos)"
   ]
  },
  {
   "cell_type": "code",
   "execution_count": 42,
   "metadata": {},
   "outputs": [
    {
     "name": "stdout",
     "output_type": "stream",
     "text": [
      "jums yra tarp\n"
     ]
    }
   ],
   "source": [
    "# if salyga \n",
    "\n",
    "age = int(input('iveskite amziu'))\n",
    "\n",
    "if age >= 18:\n",
    "    print(f'jums yra {age} metu, jus esate pilnametis')\n",
    "elif age > 12:\n",
    "     print('jums yra tarp')\n",
    "else:\n",
    "        print('jus jus esate pilnametis')"
   ]
  },
  {
   "cell_type": "code",
   "execution_count": null,
   "metadata": {},
   "outputs": [],
   "source": [
    "age = int( input('iveskite amziu:') )\n",
    "\n",
    "# vykdoma tik viena dalis, kuri yra True\n",
    "if age >= 18:\n",
    "    print(f'Jums yra {age} metu, jus esate pilnametis')\n",
    "# Negera salygu tvarka\n",
    "# elif age > 2:\n",
    "#     print('Jums yra tarp 2 ir 8 metu')\n",
    "elif age > 12:\n",
    "    print('Jums yra tarp 12 ir 18 metu')\n",
    "elif age > 8:\n",
    "    print('Jums yra tarp 8 ir 12 metu')\n",
    "elif age > 2:\n",
    "    print('Jums yra tarp 2 ir 8 metu')\n",
    "else:\n",
    "    print('Jus esate nepilnametis')"
   ]
  },
  {
   "cell_type": "code",
   "execution_count": 44,
   "metadata": {},
   "outputs": [
    {
     "name": "stdout",
     "output_type": "stream",
     "text": [
      "53\n",
      "nelyginis\n"
     ]
    }
   ],
   "source": [
    "x = int( input('iveskite skaiciu:') )\n",
    "print( x )\n",
    "\n",
    "if x % 2 == 0:\n",
    "    print('lyginis')\n",
    "else:\n",
    "    print('nelyginis')"
   ]
  },
  {
   "cell_type": "code",
   "execution_count": 58,
   "metadata": {},
   "outputs": [
    {
     "name": "stdout",
     "output_type": "stream",
     "text": [
      "dalinasi is 3\n",
      "3\n",
      "dalinasi is 3\n",
      "6\n",
      "dalinasi is 3\n",
      "9\n",
      "dalinasi is 3\n",
      "12\n",
      "dalinasi is 3\n",
      "15\n",
      "dalinasi is 3\n",
      "18\n"
     ]
    }
   ],
   "source": [
    "for skaicius in range (1,21):\n",
    "    if skaicius % 3 == 0:\n",
    "        print('dalinasi is 3')\n",
    "        print(skaicius)\n",
    "\n"
   ]
  },
  {
   "cell_type": "code",
   "execution_count": 61,
   "metadata": {},
   "outputs": [
    {
     "name": "stdout",
     "output_type": "stream",
     "text": [
      "suma dalinasi is 2\n",
      "2\n",
      "suma dalinasi is 2\n",
      "6\n",
      "suma dalinasi is 2\n",
      "12\n",
      "suma dalinasi is 2\n",
      "20\n",
      "suma dalinasi is 2\n",
      "30\n",
      "suma dalinasi is 2\n",
      "42\n",
      "suma dalinasi is 2\n",
      "56\n",
      "suma dalinasi is 2\n",
      "72\n",
      "suma dalinasi is 2\n",
      "90\n",
      "suma dalinasi is 2\n",
      "110\n",
      "suma dalinasi is 2\n",
      "132\n",
      "suma dalinasi is 2\n",
      "156\n",
      "suma dalinasi is 2\n",
      "182\n",
      "suma dalinasi is 2\n",
      "210\n",
      "suma dalinasi is 2\n",
      "240\n",
      "suma dalinasi is 2\n",
      "272\n",
      "suma dalinasi is 2\n",
      "306\n",
      "suma dalinasi is 2\n",
      "342\n",
      "suma dalinasi is 2\n",
      "380\n",
      "suma dalinasi is 2\n",
      "420\n",
      "suma dalinasi is 2\n",
      "462\n",
      "suma dalinasi is 2\n",
      "506\n",
      "suma dalinasi is 2\n",
      "552\n",
      "suma dalinasi is 2\n",
      "600\n",
      "suma dalinasi is 2\n",
      "650\n"
     ]
    }
   ],
   "source": [
    "suma = 0\n",
    "for skaicius in range (1,51):\n",
    "    #print(skaicius)\n",
    "    if (suma + skaicius) % 2 == 0:\n",
    "        print('suma dalinasi is 2')\n",
    "        suma += skaicius\n",
    "        print(suma)\n"
   ]
  },
  {
   "cell_type": "code",
   "execution_count": null,
   "metadata": {},
   "outputs": [],
   "source": []
  },
  {
   "cell_type": "code",
   "execution_count": null,
   "metadata": {},
   "outputs": [],
   "source": [
    "pasirinktas_skaicius = int( input('iveskite skaiciu') )\n",
    "\n",
    "if (pasirinktas_skaicius ** 2) % 2 != 0:\n",
    "    for i in range(1,11):\n",
    "        print( pasirinktas_skaicius * i )\n",
    "else:\n",
    "    print( 'pasirinktas skaičius pakeltas kvadratu yra lyginis' )"
   ]
  }
 ],
 "metadata": {
  "kernelspec": {
   "display_name": "Python 3",
   "language": "python",
   "name": "python3"
  },
  "language_info": {
   "codemirror_mode": {
    "name": "ipython",
    "version": 3
   },
   "file_extension": ".py",
   "mimetype": "text/x-python",
   "name": "python",
   "nbconvert_exporter": "python",
   "pygments_lexer": "ipython3",
   "version": "3.11.1"
  },
  "orig_nbformat": 4,
  "vscode": {
   "interpreter": {
    "hash": "827bed87de4586fd733a700e497921728b037beef3ab73ffba1a3753ab00f6e3"
   }
  }
 },
 "nbformat": 4,
 "nbformat_minor": 2
}

{
 "cells": [
  {
   "cell_type": "code",
   "execution_count": 5,
   "metadata": {},
   "outputs": [
    {
     "name": "stdout",
     "output_type": "stream",
     "text": [
      "<class 'list'>\n",
      "5\n",
      "['duona', 'pienas', 'obuoliai', 'morkos', 'sokoladas', 'desra']\n"
     ]
    }
   ],
   "source": [
    "# Deklaruoti list tipo duomenį, gauti jo ilgį, pridėti naują elementą\n",
    "\n",
    "prekes = ['duona', 'pienas', 'obuoliai', 'morkos', 'sokoladas']\n",
    "print(type(prekes))\n",
    "print(len(prekes))\n",
    "prekes.append('desra')\n",
    "print(prekes)"
   ]
  },
  {
   "cell_type": "code",
   "execution_count": 13,
   "metadata": {},
   "outputs": [
    {
     "data": {
      "text/plain": [
       "True"
      ]
     },
     "execution_count": 13,
     "metadata": {},
     "output_type": "execute_result"
    }
   ],
   "source": [
    "# Patikrinti ar elementas yra jūsų sąraše. Naudoti raktažodį in\n",
    "\n",
    "'morkos' in(prekes)\n"
   ]
  },
  {
   "cell_type": "code",
   "execution_count": 14,
   "metadata": {},
   "outputs": [
    {
     "data": {
      "text/plain": [
       "False"
      ]
     },
     "execution_count": 14,
     "metadata": {},
     "output_type": "execute_result"
    }
   ],
   "source": [
    "'batonas' in(prekes)"
   ]
  },
  {
   "cell_type": "code",
   "execution_count": 16,
   "metadata": {},
   "outputs": [
    {
     "name": "stdout",
     "output_type": "stream",
     "text": [
      "['duona', 'pienas', 'obuoliai', 'morkos', 'sokoladas', 2, 15, 48, 11, 8]\n"
     ]
    }
   ],
   "source": [
    "# .Sudėti du list’us, išimti paskutinį narį iš sudėto listo, išrikiuoti list’ą, suskaičiuoti kiek yra kokios nors reikšmės įvesčių list’e\n",
    "\n",
    "kainos = [2, 15, 48, 11, 8]\n",
    "sudeti_sarasai = ['duona', 'pienas', 'obuoliai', 'morkos', 'sokoladas'] + [2, 15, 48, 11, 8]\n",
    "print(sudeti_sarasai)\n"
   ]
  },
  {
   "cell_type": "code",
   "execution_count": 22,
   "metadata": {},
   "outputs": [
    {
     "name": "stdout",
     "output_type": "stream",
     "text": [
      "['duona', 'pienas', 'obuoliai', 'morkos', 'sokoladas', 2]\n"
     ]
    }
   ],
   "source": [
    "sudeti_sarasai.pop()\n",
    "print(sudeti_sarasai)\n",
    "# uzleidau kelis kartus, tai nueme daugiau paskutiniu nariu, bendziau is naujo bet vistiek jau iki pirminio varianto negrizo"
   ]
  },
  {
   "cell_type": "code",
   "execution_count": 26,
   "metadata": {},
   "outputs": [
    {
     "name": "stdout",
     "output_type": "stream",
     "text": [
      "[2, 8, 11, 15, 48]\n"
     ]
    }
   ],
   "source": [
    "print(sorted(kainos))"
   ]
  },
  {
   "cell_type": "code",
   "execution_count": 42,
   "metadata": {},
   "outputs": [
    {
     "name": "stdout",
     "output_type": "stream",
     "text": [
      "1\n",
      "1\n",
      "0\n"
     ]
    },
    {
     "data": {
      "text/plain": [
       "1"
      ]
     },
     "execution_count": 42,
     "metadata": {},
     "output_type": "execute_result"
    }
   ],
   "source": [
    "print(sudeti_sarasai.count('duona'))\n",
    "print(sudeti_sarasai.count('sokoladas'))\n",
    "print(sudeti_sarasai.count('batonas'))\n",
    "sudeti_sarasai.count(48)\n",
    "# zodinius narius suskaiciavo, bet skaiciu neskaiciuoja is to sudeto saraso, tik is to kur vien skaiciai\n",
    "kainos.count(11)\n",
    "kainos.count(48)\n"
   ]
  }
 ],
 "metadata": {
  "kernelspec": {
   "display_name": "Python 3",
   "language": "python",
   "name": "python3"
  },
  "language_info": {
   "codemirror_mode": {
    "name": "ipython",
    "version": 3
   },
   "file_extension": ".py",
   "mimetype": "text/x-python",
   "name": "python",
   "nbconvert_exporter": "python",
   "pygments_lexer": "ipython3",
   "version": "3.11.1"
  },
  "orig_nbformat": 4,
  "vscode": {
   "interpreter": {
    "hash": "827bed87de4586fd733a700e497921728b037beef3ab73ffba1a3753ab00f6e3"
   }
  }
 },
 "nbformat": 4,
 "nbformat_minor": 2
}

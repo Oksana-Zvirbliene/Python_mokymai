{
 "cells": [
  {
   "cell_type": "code",
   "execution_count": 21,
   "metadata": {},
   "outputs": [],
   "source": [
    "# Parašykite funkciją, kuri priima du list tipo kintamuosius, iš pirmojo filtro išimam visas reikšmes didesnes nei 10, \n",
    "# antrame palieka tik reikšmes kurių reikšmės susideda bent iš dviejų skaitmenų, \n",
    "# pirmojo listo reikšmes sudėkite, antrojo taip pat sudėkite, grąžinkite sandaugą iš dviejų modifikuotų listų.\n",
    "def functionExcersice( list_1, list_2):\n",
    "    list_1 = list( filter(lambda x: x <= 10, list_1) )\n",
    "    print (list_1)\n",
    "    list_2 =  list(filter(lambda x: x >= 10 , list_2) ) # o kas jei neigiamas dvizenklis????\n",
    "    print (list_2)\n",
    "    print(sum(list_1))\n",
    "    print(sum(list_2))\n",
    "    print(sum(list_1)*sum(list_2))\n",
    "    "
   ]
  },
  {
   "cell_type": "code",
   "execution_count": 22,
   "metadata": {},
   "outputs": [
    {
     "name": "stdout",
     "output_type": "stream",
     "text": [
      "[10, 9, 6, 2, 7]\n",
      "[20, 642, 33, 76]\n",
      "34\n",
      "771\n",
      "26214\n"
     ]
    }
   ],
   "source": [
    "functionExcersice([10,9,6,16,15,55,2,7], [20,642,33,76,9,7,2])"
   ]
  },
  {
   "cell_type": "code",
   "execution_count": 32,
   "metadata": {},
   "outputs": [],
   "source": [
    "#Parašykite funkciją, kuri priims listą ir patikrins ar listo narys n+1 yra 1 didesnis nei n, \n",
    "# jeigu visi listo nariai einantys vienas po kito yra didesni per 1, vadinasi anomalijos nėra, \n",
    "# jei nors 1 narys neatitinka sekos, vadinasi yra anomalija\n",
    "\n",
    "def mano_funkcija(list_3):\n",
    "    print(list_3)\n",
    "    \n"
   ]
  },
  {
   "cell_type": "code",
   "execution_count": 30,
   "metadata": {},
   "outputs": [],
   "source": [
    "list_3 = [17,18,19,21]"
   ]
  },
  {
   "cell_type": "code",
   "execution_count": null,
   "metadata": {},
   "outputs": [],
   "source": []
  },
  {
   "cell_type": "code",
   "execution_count": 40,
   "metadata": {},
   "outputs": [],
   "source": [
    "# Parašykite funkciją, kuri priims string tipo kintamąjį, gražinkite kiek tame stringę yra raidžių, skaičių ir skyrybos (specialių) ženklų, tarpų.\n",
    "\n",
    "def funkcija2(name):\n",
    "    return len(name)\n",
    "    \n",
    "    "
   ]
  },
  {
   "cell_type": "code",
   "execution_count": 41,
   "metadata": {},
   "outputs": [
    {
     "data": {
      "text/plain": [
       "16"
      ]
     },
     "execution_count": 41,
     "metadata": {},
     "output_type": "execute_result"
    }
   ],
   "source": [
    "funkcija2('asdfrtggh2hjjkk3')"
   ]
  }
 ],
 "metadata": {
  "kernelspec": {
   "display_name": "Python 3",
   "language": "python",
   "name": "python3"
  },
  "language_info": {
   "codemirror_mode": {
    "name": "ipython",
    "version": 3
   },
   "file_extension": ".py",
   "mimetype": "text/x-python",
   "name": "python",
   "nbconvert_exporter": "python",
   "pygments_lexer": "ipython3",
   "version": "3.11.1"
  },
  "orig_nbformat": 4,
  "vscode": {
   "interpreter": {
    "hash": "827bed87de4586fd733a700e497921728b037beef3ab73ffba1a3753ab00f6e3"
   }
  }
 },
 "nbformat": 4,
 "nbformat_minor": 2
}

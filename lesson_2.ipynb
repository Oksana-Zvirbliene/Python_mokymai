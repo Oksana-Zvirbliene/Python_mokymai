{
 "cells": [
  {
   "cell_type": "code",
   "execution_count": 2,
   "metadata": {},
   "outputs": [
    {
     "data": {
      "text/plain": [
       "'Oksana Zvirbliene'"
      ]
     },
     "execution_count": 2,
     "metadata": {},
     "output_type": "execute_result"
    }
   ],
   "source": [
    "\"Oksana\" + \" \" +\"Zvirbliene\" \n",
    "# atimti negalima"
   ]
  },
  {
   "cell_type": "code",
   "execution_count": 6,
   "metadata": {},
   "outputs": [
    {
     "data": {
      "text/plain": [
       "'hi hi hi hi hi hi hi hi hi hi hi hi hi hi hi hi hi hi hi hi hi hi hi hi hi hi hi hi hi hi hi hi hi hi hi hi hi hi hi hi hi hi hi hi hi hi hi hi hi hi hi hi hi hi hi hi hi hi hi hi hi hi hi hi hi hi hi hi hi hi hi hi hi hi hi hi hi hi hi hi hi hi hi hi hi hi hi hi hi hi hi hi hi hi hi hi hi hi hi hi '"
      ]
     },
     "execution_count": 6,
     "metadata": {},
     "output_type": "execute_result"
    }
   ],
   "source": [
    "\"hi\" ' ' * 100\n",
    "# dalinti / negalima"
   ]
  },
  {
   "cell_type": "code",
   "execution_count": 18,
   "metadata": {},
   "outputs": [
    {
     "name": "stdout",
     "output_type": "stream",
     "text": [
      "oksana Zvirbliene , nice tu meet you\n",
      "oksana Zvirbliene, nice to meet you, your number is 54\n"
     ]
    }
   ],
   "source": [
    "name = \"oksana\"\n",
    "surname =\"Zvirbliene\"\n",
    "number = \"54\"\n",
    "print(name + \" \" + surname + \" \" + \", nice tu meet you\")\n",
    "print( f'{name} {surname}, nice to meet you, your number is {number}')"
   ]
  },
  {
   "cell_type": "code",
   "execution_count": 22,
   "metadata": {},
   "outputs": [
    {
     "name": "stdout",
     "output_type": "stream",
     "text": [
      "<class 'int'>\n",
      "<class 'float'>\n",
      "<class 'str'>\n"
     ]
    }
   ],
   "source": [
    "number = 423\n",
    "number_text = '43'\n",
    "float_number = 1.5\n",
    "\n",
    "print(type(number))\n",
    "print(type(float_number))\n",
    "print(type(number_text))"
   ]
  },
  {
   "cell_type": "code",
   "execution_count": 30,
   "metadata": {},
   "outputs": [
    {
     "name": "stdout",
     "output_type": "stream",
     "text": [
      "424.5\n",
      "<class 'float'>\n",
      "5\n",
      "50\n",
      "15\n",
      "2.0\n",
      "4\n"
     ]
    }
   ],
   "source": [
    "suma = number + float_number\n",
    "print(suma)\n",
    "print(type(suma))\n",
    "print( 10 -5)\n",
    "print( 10 *5)\n",
    "print( 10 +5)\n",
    "print( 10 / 5)\n",
    "print( 14 // 3)  # duoda sveika dalis dalybos\n"
   ]
  },
  {
   "cell_type": "code",
   "execution_count": 36,
   "metadata": {},
   "outputs": [
    {
     "name": "stdout",
     "output_type": "stream",
     "text": [
      "isveda dalybos liekana\n",
      "2\n",
      "2\n",
      "1\n",
      "0\n"
     ]
    }
   ],
   "source": [
    "print( 'isveda dalybos liekana')\n",
    "print( 14 %3)\n",
    "print( 11 %3)\n",
    "print( 11 %2)\n",
    "print( 16 %2) #jeigu gaunam 1 - skaicius nelyginis, jeigu 0 -lyginis\n",
    "\n"
   ]
  },
  {
   "cell_type": "code",
   "execution_count": 41,
   "metadata": {},
   "outputs": [
    {
     "name": "stdout",
     "output_type": "stream",
     "text": [
      "kelimas laipsniu\n",
      "4\n",
      "46656\n",
      "36\n"
     ]
    }
   ],
   "source": [
    "print ('kelimas laipsniu')\n",
    "print(2**2)\n",
    "print(6**6)\n",
    "print(6**2)"
   ]
  },
  {
   "cell_type": "code",
   "execution_count": 45,
   "metadata": {},
   "outputs": [
    {
     "name": "stdout",
     "output_type": "stream",
     "text": [
      "9.600000000000001\n"
     ]
    }
   ],
   "source": [
    "suma = 0\n",
    "kaina_1  = 5.4\n",
    "kaina_2 = 4.2\n",
    "suma = suma+ kaina_1\n",
    "suma = suma+ kaina_2\n",
    "suma = kaina_2 + kaina_1\n",
    "print(suma)\n",
    "\n"
   ]
  },
  {
   "cell_type": "code",
   "execution_count": 51,
   "metadata": {},
   "outputs": [
    {
     "name": "stdout",
     "output_type": "stream",
     "text": [
      "1\n",
      "20\n",
      "8.0\n",
      "8.0\n"
     ]
    }
   ],
   "source": [
    "suma = 5+4\n",
    "suma = 5-4\n",
    "print(suma)\n",
    "suma = 5*4\n",
    "print(suma)\n",
    "suma = 64/8\n",
    "print(suma)\n",
    "print(suma)"
   ]
  },
  {
   "cell_type": "code",
   "execution_count": 56,
   "metadata": {},
   "outputs": [
    {
     "name": "stdout",
     "output_type": "stream",
     "text": [
      "18.0\n",
      "3.0\n",
      "1.4\n",
      "78.75\n"
     ]
    }
   ],
   "source": [
    "suma = float_number + float_number\n",
    "print(10.5+7.5)\n",
    "print(10.5-7.5)\n",
    "print(10.5/7.5)\n",
    "print(10.5*7.5)\n"
   ]
  },
  {
   "cell_type": "code",
   "execution_count": 58,
   "metadata": {},
   "outputs": [
    {
     "name": "stdout",
     "output_type": "stream",
     "text": [
      "390.625\n"
     ]
    }
   ],
   "source": [
    "atstumas = float_number / float_number\n",
    "print(150000000/384000)"
   ]
  },
  {
   "cell_type": "code",
   "execution_count": 66,
   "metadata": {},
   "outputs": [
    {
     "name": "stdout",
     "output_type": "stream",
     "text": [
      "14\n",
      "4\n",
      "45\n",
      "1.8\n",
      "4\n",
      "14\n"
     ]
    }
   ],
   "source": [
    "pirmas = 9\n",
    "antras = 5\n",
    "print(9+5)\n",
    "print(9-5)\n",
    "print(9*5)\n",
    "print(9/5)\n",
    "print(9%5)\n",
    "print(pirmas + antras)"
   ]
  },
  {
   "cell_type": "code",
   "execution_count": 65,
   "metadata": {},
   "outputs": [
    {
     "name": "stdout",
     "output_type": "stream",
     "text": [
      "390.625\n"
     ]
    }
   ],
   "source": [
    "dist_sun = 150_000_000\n",
    "dist_moon = 384_000\n",
    "print(dist_sun / dist_moon)\n"
   ]
  },
  {
   "cell_type": "code",
   "execution_count": 80,
   "metadata": {},
   "outputs": [
    {
     "name": "stdout",
     "output_type": "stream",
     "text": [
      "True\n",
      "<class 'bool'>\n",
      "True\n",
      "False\n",
      "False\n",
      "False\n"
     ]
    }
   ],
   "source": [
    "# Boolean\n",
    "bool_true = True\n",
    "print(bool_true)\n",
    "print(type(bool_true))\n",
    "bool_true = bool(1)\n",
    "print(bool_true)\n",
    "bool_true = False\n",
    "print(bool_true)\n",
    "print(bool_true)\n",
    "print(bool(0))  # jeigu skaicius lygus 0 bus false, jeigu ne 0 -true\n"
   ]
  },
  {
   "cell_type": "code",
   "execution_count": 88,
   "metadata": {},
   "outputs": [
    {
     "name": "stdout",
     "output_type": "stream",
     "text": [
      "False\n",
      "True\n",
      "True\n",
      "False\n",
      "True\n",
      "False\n",
      "True\n"
     ]
    }
   ],
   "source": [
    "print(2>5)\n",
    "print(2<5)\n",
    "print(2<=5)\n",
    "print(2==5)\n",
    "print(5==5)\n",
    "print(5!=5)\n",
    "print(5!=2)\n"
   ]
  },
  {
   "cell_type": "code",
   "execution_count": 93,
   "metadata": {},
   "outputs": [
    {
     "name": "stdout",
     "output_type": "stream",
     "text": [
      "True\n",
      "False\n",
      "False\n"
     ]
    }
   ],
   "source": [
    "text = 'Hello world'\n",
    "bool_text = 'd' in text\n",
    "print(bool_text)\n",
    "bool_text = 'D' in text\n",
    "print(bool_text)\n",
    "print(text.islower())"
   ]
  },
  {
   "cell_type": "code",
   "execution_count": 96,
   "metadata": {},
   "outputs": [
    {
     "name": "stdout",
     "output_type": "stream",
     "text": [
      "False\n",
      "True\n",
      "True\n"
     ]
    }
   ],
   "source": [
    "print(bool('')) # false kai tekstas tuscias, jeigu yra tarpas jau bus true\n",
    "print(bool(' '))\n",
    "print(bool(' bnvm'))"
   ]
  },
  {
   "cell_type": "code",
   "execution_count": 98,
   "metadata": {},
   "outputs": [
    {
     "name": "stdout",
     "output_type": "stream",
     "text": [
      "False\n",
      "True\n"
     ]
    }
   ],
   "source": [
    "print(not True)\n",
    "print(not not True)"
   ]
  },
  {
   "cell_type": "code",
   "execution_count": 101,
   "metadata": {},
   "outputs": [
    {
     "name": "stdout",
     "output_type": "stream",
     "text": [
      "and\n",
      "False\n",
      "or\n"
     ]
    }
   ],
   "source": [
    "print('and')\n",
    "print(20>10 and 5<1)\n",
    "print('or')\n"
   ]
  },
  {
   "cell_type": "code",
   "execution_count": 114,
   "metadata": {},
   "outputs": [
    {
     "name": "stdout",
     "output_type": "stream",
     "text": [
      "True\n",
      "True\n",
      "True\n",
      "False\n",
      "True\n",
      "False\n",
      "False\n",
      "False\n",
      "False\n"
     ]
    }
   ],
   "source": [
    "print(5<10)\n",
    "print(5==5)\n",
    "text = 'Hello Python'\n",
    "bool_text = 'l' in text\n",
    "print(bool_text)\n",
    "bool_text = 'a' in text\n",
    "print(bool_text)\n",
    "bool_true = bool(1)\n",
    "print(bool_true)\n",
    "bool_true = bool(0)\n",
    "print(bool_true)\n",
    "print(text.islower())\n",
    "print(bool())\n",
    "print(bool(''))"
   ]
  },
  {
   "cell_type": "code",
   "execution_count": 134,
   "metadata": {},
   "outputs": [
    {
     "name": "stdout",
     "output_type": "stream",
     "text": [
      "['Vilnius', 'Kaunas', 'Klaipeda']\n",
      "Vilnius\n",
      "<class 'list'>\n",
      "['Kaunas', 'Klaipeda']\n",
      "['Klaipeda']\n",
      "Kaunas\n"
     ]
    }
   ],
   "source": [
    "# List \n",
    "cities = [ 'Vilnius', 'Kaunas', 'Klaipeda' ]\n",
    "print(cities)\n",
    "print(cities[0])\n",
    "print(type(cities))\n",
    "print(cities[1:])\n",
    "print(cities[2:])\n",
    "print(cities[-2])\n"
   ]
  },
  {
   "cell_type": "code",
   "execution_count": 124,
   "metadata": {},
   "outputs": [
    {
     "name": "stdout",
     "output_type": "stream",
     "text": [
      "<class 'int'>\n"
     ]
    }
   ],
   "source": [
    "numbers = [15, 654, 769, 568, 4287, '5']\n",
    "print(type(numbers[0]))"
   ]
  },
  {
   "cell_type": "code",
   "execution_count": 126,
   "metadata": {},
   "outputs": [
    {
     "name": "stdout",
     "output_type": "stream",
     "text": [
      "[15, 65, 48]\n",
      "[15, 65, 48, 51]\n"
     ]
    }
   ],
   "source": [
    "numbers = [15, 65, 48]\n",
    "print(numbers)\n",
    "numbers.append(51)\n",
    "print(numbers)"
   ]
  },
  {
   "cell_type": "code",
   "execution_count": 127,
   "metadata": {},
   "outputs": [
    {
     "data": {
      "text/plain": [
       "1"
      ]
     },
     "execution_count": 127,
     "metadata": {},
     "output_type": "execute_result"
    }
   ],
   "source": [
    "numbers.count(51)"
   ]
  },
  {
   "cell_type": "code",
   "execution_count": 132,
   "metadata": {},
   "outputs": [
    {
     "name": "stdout",
     "output_type": "stream",
     "text": [
      "[15, 65, 48, 51]\n",
      "[15, 65, 48, 51, [10, 72]]\n",
      "[10, 72]\n",
      "5\n",
      "[15, 65, 48, 51, [10, 72], 10, 72]\n"
     ]
    }
   ],
   "source": [
    "numbers = [15, 65, 48]\n",
    "numbers.append(51)\n",
    "print(numbers)\n",
    "numbers.append([10,72])\n",
    "print(numbers)\n",
    "print(numbers[-1])\n",
    "print(len(numbers))\n",
    "numbers.extend([10,72])\n",
    "print(numbers)"
   ]
  },
  {
   "cell_type": "code",
   "execution_count": 135,
   "metadata": {},
   "outputs": [
    {
     "data": {
      "text/plain": [
       "6"
      ]
     },
     "execution_count": 135,
     "metadata": {},
     "output_type": "execute_result"
    }
   ],
   "source": [
    "numbers.index(72) # grazina indeksa"
   ]
  },
  {
   "cell_type": "code",
   "execution_count": 136,
   "metadata": {},
   "outputs": [
    {
     "name": "stdout",
     "output_type": "stream",
     "text": [
      "[15, 500, 65, 48, 51, [10, 72], 10, 72]\n"
     ]
    }
   ],
   "source": [
    "numbers.insert(1,500)\n",
    "print(numbers)"
   ]
  },
  {
   "cell_type": "code",
   "execution_count": 145,
   "metadata": {},
   "outputs": [
    {
     "name": "stdout",
     "output_type": "stream",
     "text": [
      "[]\n"
     ]
    },
    {
     "ename": "IndexError",
     "evalue": "pop from empty list",
     "output_type": "error",
     "traceback": [
      "\u001b[1;31m---------------------------------------------------------------------------\u001b[0m",
      "\u001b[1;31mIndexError\u001b[0m                                Traceback (most recent call last)",
      "Cell \u001b[1;32mIn[145], line 2\u001b[0m\n\u001b[0;32m      1\u001b[0m \u001b[39mprint\u001b[39m(numbers)\n\u001b[1;32m----> 2\u001b[0m numbers\u001b[39m.\u001b[39;49mpop()\n\u001b[0;32m      3\u001b[0m \u001b[39mprint\u001b[39m(numbers)\n",
      "\u001b[1;31mIndexError\u001b[0m: pop from empty list"
     ]
    }
   ],
   "source": [
    "numbers.pop"
   ]
  },
  {
   "cell_type": "code",
   "execution_count": 159,
   "metadata": {},
   "outputs": [
    {
     "name": "stdout",
     "output_type": "stream",
     "text": [
      "[654, [[[48, [['65']]], 57]]]\n",
      "2\n",
      "[[[48, [['65']]], 57]]\n",
      "1\n",
      "[[48, [['65']]], 57]\n",
      "[48, [['65']]]\n",
      "[['65']]\n",
      "['65']\n",
      "65\n"
     ]
    }
   ],
   "source": [
    "nested_list = [654, [[[48, [['65']]], 57]]]\n",
    "print(nested_list)\n",
    "print(len(nested_list))\n",
    "print(nested_list[1])\n",
    "print(len(nested_list[1]))\n",
    "print(nested_list[1][0])\n",
    "print(nested_list[1][0][0])\n",
    "print(nested_list[1][0][0][1])\n",
    "print(nested_list[1][0][0][1][0])\n",
    "print(nested_list[1][0][0][1][0][0])"
   ]
  },
  {
   "cell_type": "code",
   "execution_count": 3,
   "metadata": {},
   "outputs": [
    {
     "name": "stdout",
     "output_type": "stream",
     "text": [
      "[15, 65, 48]\n",
      "[48, 65, 15]\n"
     ]
    }
   ],
   "source": [
    "numbers = [15, 65, 48]\n",
    "print(numbers)\n",
    "numbers.reverse()\n",
    "print(numbers)\n"
   ]
  },
  {
   "cell_type": "code",
   "execution_count": 7,
   "metadata": {},
   "outputs": [
    {
     "name": "stdout",
     "output_type": "stream",
     "text": [
      "[15, 48, 65]\n",
      "[65, 48, 15]\n"
     ]
    }
   ],
   "source": [
    "numbers.sort()\n",
    "print(numbers)\n",
    "numbers.sort(reverse=True)\n",
    "print(numbers)"
   ]
  },
  {
   "cell_type": "code",
   "execution_count": 9,
   "metadata": {},
   "outputs": [
    {
     "name": "stdout",
     "output_type": "stream",
     "text": [
      "[15, 48, 65]\n",
      "[15, 65, 48]\n"
     ]
    }
   ],
   "source": [
    "numbers = [15, 65, 48]\n",
    "print(sorted(numbers))\n",
    "print(numbers)"
   ]
  },
  {
   "cell_type": "code",
   "execution_count": 14,
   "metadata": {},
   "outputs": [
    {
     "name": "stdout",
     "output_type": "stream",
     "text": [
      "[1, 2, 3, 'a', 'b', 'c']\n",
      "[1, 2, 3, 'a', 'b', 'c', 1, 2, 3, 'a', 'b', 'c', 1, 2, 3, 'a', 'b', 'c', 1, 2, 3, 'a', 'b', 'c', 1, 2, 3, 'a', 'b', 'c', 1, 2, 3, 'a', 'b', 'c', 1, 2, 3, 'a', 'b', 'c', 1, 2, 3, 'a', 'b', 'c', 1, 2, 3, 'a', 'b', 'c', 1, 2, 3, 'a', 'b', 'c']\n"
     ]
    }
   ],
   "source": [
    "#operator with list\n",
    "\n",
    "combined = [1,2,3] + ['a', 'b', 'c']\n",
    "print(combined)\n",
    "print(combined*10)"
   ]
  },
  {
   "cell_type": "code",
   "execution_count": 16,
   "metadata": {},
   "outputs": [
    {
     "name": "stdout",
     "output_type": "stream",
     "text": [
      "<class 'list'>\n"
     ]
    }
   ],
   "source": [
    "print(type([]))"
   ]
  }
 ],
 "metadata": {
  "kernelspec": {
   "display_name": "Python 3",
   "language": "python",
   "name": "python3"
  },
  "language_info": {
   "codemirror_mode": {
    "name": "ipython",
    "version": 3
   },
   "file_extension": ".py",
   "mimetype": "text/x-python",
   "name": "python",
   "nbconvert_exporter": "python",
   "pygments_lexer": "ipython3",
   "version": "3.11.1"
  },
  "orig_nbformat": 4,
  "vscode": {
   "interpreter": {
    "hash": "827bed87de4586fd733a700e497921728b037beef3ab73ffba1a3753ab00f6e3"
   }
  }
 },
 "nbformat": 4,
 "nbformat_minor": 2
}

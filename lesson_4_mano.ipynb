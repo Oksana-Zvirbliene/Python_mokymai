{
 "cells": [
  {
   "cell_type": "code",
   "execution_count": null,
   "metadata": {},
   "outputs": [],
   "source": [
    "# List comprehension\n"
   ]
  },
  {
   "cell_type": "code",
   "execution_count": 1,
   "metadata": {},
   "outputs": [
    {
     "name": "stdout",
     "output_type": "stream",
     "text": [
      "<class 'NoneType'>\n"
     ]
    }
   ],
   "source": [
    "# none   gali buti null, nan, nill\n",
    "\n",
    "niekas = None\n",
    "print(type(niekas))"
   ]
  },
  {
   "cell_type": "code",
   "execution_count": 4,
   "metadata": {},
   "outputs": [],
   "source": [
    "import random\n",
    "vardas = ''\n",
    "if random.random() > 0.5:\n",
    "    vardas = input('iveskite varda')\n",
    "if vardas != '':\n",
    "    print(f'sveikas{vardas}')"
   ]
  },
  {
   "cell_type": "code",
   "execution_count": 8,
   "metadata": {},
   "outputs": [
    {
     "name": "stdout",
     "output_type": "stream",
     "text": [
      "Sveikas oksnaa!\n"
     ]
    }
   ],
   "source": [
    "import random\n",
    "\n",
    "vardas = None\n",
    "\n",
    "if random.random() > 0.5:\n",
    "    vardas = input('Iveskite vardą:')\n",
    "\n",
    "if vardas != None and vardas != '':\n",
    "    print(f'Sveikas {vardas}!')\n",
    "elif vardas != None and vardas == '':\n",
    "    print(f'Nepavyko nuskaityti jusu vardo. Bandykite dar karta')\n",
    "else:\n",
    "    print('Jus nenurodete savo vardo')"
   ]
  },
  {
   "cell_type": "code",
   "execution_count": 9,
   "metadata": {},
   "outputs": [
    {
     "name": "stdout",
     "output_type": "stream",
     "text": [
      "None\n",
      "[1, 100]\n"
     ]
    }
   ],
   "source": [
    "list_1 = [1]\n",
    "print(list_1.append(100))\n",
    "print(list_1)"
   ]
  },
  {
   "cell_type": "code",
   "execution_count": 14,
   "metadata": {},
   "outputs": [
    {
     "name": "stdout",
     "output_type": "stream",
     "text": [
      "{'vardas': 'oksana', 'pavarde': 'zvirbliene', 'amzius': 43}\n"
     ]
    }
   ],
   "source": [
    "# dictionaryt\n",
    "\n",
    "me = {\n",
    "    'vardas' : 'oksana',\n",
    "    'pavarde' : 'zvirbliene',\n",
    "    'amzius' : 43\n",
    "}\n",
    "print(me)"
   ]
  },
  {
   "cell_type": "code",
   "execution_count": 15,
   "metadata": {},
   "outputs": [
    {
     "name": "stdout",
     "output_type": "stream",
     "text": [
      "oksana\n",
      "zvirbliene\n"
     ]
    }
   ],
   "source": [
    "print(me['vardas'])\n",
    "print(me['pavarde'])"
   ]
  },
  {
   "cell_type": "code",
   "execution_count": 16,
   "metadata": {},
   "outputs": [
    {
     "name": "stdout",
     "output_type": "stream",
     "text": [
      "{'vardas': 'oksana', 'pavarde': 'zvirbliene', 'amzius': 43, 'miestas': 'Vilnius'}\n"
     ]
    }
   ],
   "source": [
    "me [\"miestas\"] = 'Vilnius'\n",
    "print(me)"
   ]
  },
  {
   "cell_type": "code",
   "execution_count": 17,
   "metadata": {},
   "outputs": [
    {
     "name": "stdout",
     "output_type": "stream",
     "text": [
      "{'vardas': 'oksana', 'pavarde': 'zvirbliene', 'amzius': 43, 'miestas': 'Vilnius', 'hobiai': ['tenisas', 'barre']}\n"
     ]
    }
   ],
   "source": [
    "me[\"hobiai\"] = [\"tenisas\", \"barre\"]\n",
    "print(me)"
   ]
  },
  {
   "cell_type": "code",
   "execution_count": 18,
   "metadata": {},
   "outputs": [
    {
     "name": "stdout",
     "output_type": "stream",
     "text": [
      "tiesa\n",
      "netiesa\n",
      "none verte\n"
     ]
    }
   ],
   "source": [
    "someone = {\n",
    "    True: 'tiesa',\n",
    "    False: 'netiesa',\n",
    "    None: 'none verte'\n",
    "}\n",
    "print ( someone[True] )\n",
    "print ( someone[False] )\n",
    "print ( someone[None] )"
   ]
  },
  {
   "cell_type": "code",
   "execution_count": 19,
   "metadata": {},
   "outputs": [
    {
     "name": "stdout",
     "output_type": "stream",
     "text": [
      "[{'vardas': 'Jonas', 'amzius': 35}, {'vardas': 'Petras', 'amzius': 50}, {'vardas': 'Mantas', 'amzius': 40}]\n",
      "{'vardas': 'Jonas', 'amzius': 35}\n",
      "Jonas\n",
      "for loop\n",
      "Jonas\n",
      "Petras\n",
      "Mantas\n"
     ]
    }
   ],
   "source": [
    "zmones = [\n",
    "    {'vardas': 'Jonas', 'amzius': 35},\n",
    "    {'vardas': 'Petras', 'amzius': 50},\n",
    "    {'vardas': 'Mantas', 'amzius': 40}\n",
    "]\n",
    "print(zmones)\n",
    "print( zmones[0] )\n",
    "print( zmones[0]['vardas'] )\n",
    "\n",
    "print('for loop')\n",
    "for zmogus in zmones:\n",
    "    print( zmogus['vardas'] )"
   ]
  },
  {
   "cell_type": "code",
   "execution_count": 20,
   "metadata": {},
   "outputs": [
    {
     "name": "stdout",
     "output_type": "stream",
     "text": [
      "{'vardas': 'oksana', 'pavarde': 'zvirbliene', 'amzius': 43, 'miestas': 'Vilnius', 'hobiai': ['tenisas', 'barre']}\n",
      "5\n"
     ]
    }
   ],
   "source": [
    "print(me)\n",
    "print(len(me))"
   ]
  },
  {
   "cell_type": "code",
   "execution_count": 23,
   "metadata": {},
   "outputs": [
    {
     "name": "stdout",
     "output_type": "stream",
     "text": [
      "{'vardas': 'oksana', 'pavarde': 'zvirbliene', 'amzius': 43, 'miestas': 'Vilnius', 'hobiai': ['tenisas', 'barre']}\n",
      "{'vardas': 'oksana', 'pavarde': 'zvirbliene', 'miestas': 'Vilnius', 'hobiai': ['tenisas', 'barre']}\n",
      "{'vardas': 'oksana', 'pavarde': 'zvirbliene', 'hobiai': ['tenisas', 'barre']}\n"
     ]
    }
   ],
   "source": [
    "me = {'vardas': 'oksana', 'pavarde': 'zvirbliene', 'amzius': 43, 'miestas': 'Vilnius', 'hobiai': ['tenisas', 'barre']}\n",
    "print(me)\n",
    "me.pop('amzius')\n",
    "print(me)\n",
    "del me ['miestas']\n",
    "print(me)"
   ]
  },
  {
   "cell_type": "code",
   "execution_count": 27,
   "metadata": {},
   "outputs": [
    {
     "name": "stdout",
     "output_type": "stream",
     "text": [
      "{'vardas': 'oksana', 'pavarde': 'zvirbliene', 'amzius': 43, 'miestas': 'Vilnius'}\n",
      "('hobiai', ['tenisas', 'barre'])\n",
      "{'vardas': 'oksana', 'pavarde': 'zvirbliene', 'amzius': 43, 'miestas': 'Vilnius'}\n"
     ]
    }
   ],
   "source": [
    "print(me)\n",
    "#me.clear()\n",
    "me = {'vardas': 'oksana', 'pavarde': 'zvirbliene', 'amzius': 43, 'miestas': 'Vilnius', 'hobiai': ['tenisas', 'barre']}\n",
    "print(me.popitem())\n",
    "print(me)\n"
   ]
  },
  {
   "cell_type": "code",
   "execution_count": 32,
   "metadata": {},
   "outputs": [
    {
     "name": "stdout",
     "output_type": "stream",
     "text": [
      "None\n",
      "nerastas\n",
      "0\n",
      "43\n"
     ]
    }
   ],
   "source": [
    "me = {'vardas': 'oksana', 'pavarde': 'zvirbliene', 'amzius': 43, 'miestas': 'Vilnius', 'hobiai': ['tenisas', 'barre']}\n",
    "\n",
    "#me['neegzist']\n",
    "me.get('neegzist')  #klaida\n",
    "print(me.get('neegzist')) #nera klaidos\n",
    "print(me.get('neegzist', 'nerastas')) \n",
    "print(me.get('neegzist', 0)) \n",
    "print(me.get('amzius', 0)) "
   ]
  },
  {
   "cell_type": "code",
   "execution_count": 34,
   "metadata": {},
   "outputs": [
    {
     "name": "stdout",
     "output_type": "stream",
     "text": [
      "{'vardas': 'oksana', 'pavarde': 'zvirbliene'}\n",
      "{'vardas': 'oksa', 'pavarde': 'zvirbliene', 'amzius': 43, 'miestas': 'Vilnius', 'hobiai': ['tenisas', 'barre']}\n"
     ]
    }
   ],
   "source": [
    "me = {'vardas': 'oksana', 'pavarde': 'zvirbliene'}\n",
    "updated_info = {'vardas': 'oksa', 'pavarde': 'zvirbliene', 'amzius': 43, 'miestas': 'Vilnius', 'hobiai': ['tenisas', 'barre']}\n",
    "print(me)\n",
    "me.update(updated_info)\n",
    "print(updated_info)\n",
    "\n",
    "# negali buti 2 vienodi raktazodiai for\n"
   ]
  },
  {
   "cell_type": "code",
   "execution_count": 35,
   "metadata": {},
   "outputs": [
    {
     "name": "stdout",
     "output_type": "stream",
     "text": [
      "oksa\n",
      "zvirbliene\n",
      "43\n",
      "Vilnius\n",
      "['tenisas', 'barre']\n"
     ]
    }
   ],
   "source": [
    "for value in me.values():\n",
    "    print(value)"
   ]
  },
  {
   "cell_type": "code",
   "execution_count": 37,
   "metadata": {},
   "outputs": [
    {
     "name": "stdout",
     "output_type": "stream",
     "text": [
      "vardas\n",
      "pavarde\n",
      "amzius\n",
      "miestas\n",
      "hobiai\n"
     ]
    }
   ],
   "source": [
    "for key in me.keys():\n",
    "    print(key)"
   ]
  },
  {
   "cell_type": "code",
   "execution_count": 38,
   "metadata": {},
   "outputs": [
    {
     "name": "stdout",
     "output_type": "stream",
     "text": [
      "key is 'vardas' with a value of: oksa\n",
      "key is 'pavarde' with a value of: zvirbliene\n",
      "key is 'amzius' with a value of: 43\n",
      "key is 'miestas' with a value of: Vilnius\n",
      "key is 'hobiai' with a value of: ['tenisas', 'barre']\n"
     ]
    }
   ],
   "source": [
    "for key, value in me.items():\n",
    "    print (f\"key is '{key}' with a value of: {value}\")"
   ]
  },
  {
   "cell_type": "code",
   "execution_count": null,
   "metadata": {},
   "outputs": [],
   "source": []
  },
  {
   "cell_type": "code",
   "execution_count": 42,
   "metadata": {},
   "outputs": [
    {
     "data": {
      "text/plain": [
       "{'id': 4448809940,\n",
       " 'id_str': '4448809940',\n",
       " 'name': 'ayah',\n",
       " 'screen_name': 'lovbyun',\n",
       " 'location': 'bbh iu jjh pcy kjd dks',\n",
       " 'url': 'https://curiouscat.me/baekhyun-l',\n",
       " 'description': 'hi hello I love exo',\n",
       " 'translator_type': 'none',\n",
       " 'protected': False,\n",
       " 'verified': False,\n",
       " 'followers_count': 1142,\n",
       " 'friends_count': 125,\n",
       " 'listed_count': 20,\n",
       " 'favourites_count': 5712,\n",
       " 'statuses_count': 4011,\n",
       " 'created_at': 'Fri Dec 04 03:44:59 +0000 2015',\n",
       " 'utc_offset': -28800,\n",
       " 'time_zone': 'Pacific Time (US & Canada)',\n",
       " 'geo_enabled': False,\n",
       " 'lang': 'en',\n",
       " 'contributors_enabled': False,\n",
       " 'is_translator': False,\n",
       " 'profile_background_color': '000000',\n",
       " 'profile_background_image_url': 'http://abs.twimg.com/images/themes/theme1/bg.png',\n",
       " 'profile_background_image_url_https': 'https://abs.twimg.com/images/themes/theme1/bg.png',\n",
       " 'profile_background_tile': False,\n",
       " 'profile_link_color': 'F58EA8',\n",
       " 'profile_sidebar_border_color': '000000',\n",
       " 'profile_sidebar_fill_color': '000000',\n",
       " 'profile_text_color': '000000',\n",
       " 'profile_use_background_image': False,\n",
       " 'profile_image_url': 'http://pbs.twimg.com/profile_images/967130320259526656/0xZ-wxXJ_normal.jpg',\n",
       " 'profile_image_url_https': 'https://pbs.twimg.com/profile_images/967130320259526656/0xZ-wxXJ_normal.jpg',\n",
       " 'profile_banner_url': 'https://pbs.twimg.com/profile_banners/4448809940/1519340670',\n",
       " 'default_profile': False,\n",
       " 'default_profile_image': False,\n",
       " 'following': None,\n",
       " 'follow_request_sent': None,\n",
       " 'notifications': None}"
      ]
     },
     "execution_count": 42,
     "metadata": {},
     "output_type": "execute_result"
    }
   ],
   "source": [
    "twitter_post = {\n",
    "  \"created_at\": \"Tue Feb 27 21:11:40 +0000 2018\",\n",
    "  \"id\": 968594506663669800,\n",
    "  \"id_str\": \"968594506663669760\",\n",
    "  \"text\": \"RT @honeydrop_506: 180222 ICN #백현 #BAEKHYUNnn나의 겨울과 너nn#iHeartAwards #BestFanArmy #EXOL @weareoneEXO https://t.co/hg7I3xAlBg\",\n",
    "  \"truncated\": False,\n",
    "  \"in_reply_to_status_id\": None,\n",
    "  \"in_reply_to_status_id_str\": None,\n",
    "  \"in_reply_to_user_id\": None,\n",
    "  \"in_reply_to_user_id_str\": None,\n",
    "  \"in_reply_to_screen_name\": None,\n",
    "  \"user\": {\n",
    "    \"id\": 4448809940,\n",
    "    \"id_str\": \"4448809940\",\n",
    "    \"name\": \"ayah\",\n",
    "    \"screen_name\": \"lovbyun\",\n",
    "    \"location\": \"bbh iu jjh pcy kjd dks\",\n",
    "    \"url\": \"https://curiouscat.me/baekhyun-l\",\n",
    "    \"description\": \"hi hello I love exo\",\n",
    "    \"translator_type\": \"none\",\n",
    "    \"protected\": False,\n",
    "    \"verified\": False,\n",
    "    \"followers_count\": 1142,\n",
    "    \"friends_count\": 125,\n",
    "    \"listed_count\": 20,\n",
    "    \"favourites_count\": 5712,\n",
    "    \"statuses_count\": 4011,\n",
    "    \"created_at\": \"Fri Dec 04 03:44:59 +0000 2015\",\n",
    "    \"utc_offset\": -28800,\n",
    "    \"time_zone\": \"Pacific Time (US & Canada)\",\n",
    "    \"geo_enabled\": False,\n",
    "    \"lang\": \"en\",\n",
    "    \"contributors_enabled\": False,\n",
    "    \"is_translator\": False,\n",
    "    \"profile_background_color\": \"000000\",\n",
    "    \"profile_background_image_url\": \"http://abs.twimg.com/images/themes/theme1/bg.png\",\n",
    "    \"profile_background_image_url_https\": \"https://abs.twimg.com/images/themes/theme1/bg.png\",\n",
    "    \"profile_background_tile\": False,\n",
    "    \"profile_link_color\": \"F58EA8\",\n",
    "    \"profile_sidebar_border_color\": \"000000\",\n",
    "    \"profile_sidebar_fill_color\": \"000000\",\n",
    "    \"profile_text_color\": \"000000\",\n",
    "    \"profile_use_background_image\": False,\n",
    "    \"profile_image_url\": \"http://pbs.twimg.com/profile_images/967130320259526656/0xZ-wxXJ_normal.jpg\",\n",
    "    \"profile_image_url_https\": \"https://pbs.twimg.com/profile_images/967130320259526656/0xZ-wxXJ_normal.jpg\",\n",
    "    \"profile_banner_url\": \"https://pbs.twimg.com/profile_banners/4448809940/1519340670\",\n",
    "    \"default_profile\": False,\n",
    "    \"default_profile_image\": False,\n",
    "    \"following\": None,\n",
    "    \"follow_request_sent\": None,\n",
    "    \"notifications\": None\n",
    "  },\n",
    "}\n",
    "\n",
    "twitter_post[\"user\"]"
   ]
  },
  {
   "cell_type": "code",
   "execution_count": 43,
   "metadata": {},
   "outputs": [
    {
     "data": {
      "text/plain": [
       "125"
      ]
     },
     "execution_count": 43,
     "metadata": {},
     "output_type": "execute_result"
    }
   ],
   "source": [
    "twitter_post[\"user\"]['friends_count']"
   ]
  },
  {
   "cell_type": "code",
   "execution_count": 66,
   "metadata": {},
   "outputs": [
    {
     "name": "stdout",
     "output_type": "stream",
     "text": [
      "{'brand': 'Ford', 'model': 'Mustang', 'year': 1964}\n",
      "3\n",
      "Ford\n",
      "{'brand': 'Ford', 'model': 'Mustang', 'year': 2022}\n"
     ]
    }
   ],
   "source": [
    "car =\t{\n",
    "  \"brand\": \"Ford\",\n",
    "  \"model\": \"Mustang\",\n",
    "  \"year\": 1964\n",
    "}\n",
    "print(car)\n",
    "print(len(car))\n",
    "print(car['brand'])\n",
    "updated_car = {\n",
    "  \"brand\": \"Ford\",\n",
    "  \"model\": \"Mustang\",\n",
    "  \"year\": 2022\n",
    "}\n",
    "print(updated_car)"
   ]
  },
  {
   "cell_type": "code",
   "execution_count": 67,
   "metadata": {},
   "outputs": [
    {
     "name": "stdout",
     "output_type": "stream",
     "text": [
      "{'brand': 'Ford', 'model': 'Mustang', 'year': 1964, 'color': 'red', 'used': True}\n"
     ]
    }
   ],
   "source": [
    "car[\"color\"] = 'red'\n",
    "car[\"used\"] = True\n",
    "print(car)"
   ]
  },
  {
   "cell_type": "code",
   "execution_count": 71,
   "metadata": {},
   "outputs": [
    {
     "name": "stdout",
     "output_type": "stream",
     "text": [
      "{'brand': 'Ford', 'year': 1964, 'color': 'red', 'used': None}\n"
     ]
    }
   ],
   "source": [
    "car.pop('model')\n",
    "print(car)\n"
   ]
  },
  {
   "cell_type": "code",
   "execution_count": 73,
   "metadata": {},
   "outputs": [
    {
     "name": "stdout",
     "output_type": "stream",
     "text": [
      "{'brand': 'Ford', 'year': 1964, 'color': 'red', 'used': None}\n"
     ]
    }
   ],
   "source": [
    "car['used'] = None\n",
    "print(car)"
   ]
  },
  {
   "cell_type": "code",
   "execution_count": null,
   "metadata": {},
   "outputs": [],
   "source": [
    "#set\n",
    "\n",
    "my_list = [100,2,3,4,5,1,1,1,1,1,\"a, \"d\", ]"
   ]
  },
  {
   "cell_type": "code",
   "execution_count": 78,
   "metadata": {},
   "outputs": [
    {
     "name": "stdout",
     "output_type": "stream",
     "text": [
      "{'cherry', 'apple', 'banana'}\n",
      "{'cherry', 'pear', 'apple', 'banana'}\n",
      "{'pear', 5, 'apple', 'cherry', 'banana'}\n"
     ]
    }
   ],
   "source": [
    "fruits = {'apple', \"banana\", \"cherry\"}\n",
    "print(fruits)\n",
    "fruits.add('pear')\n",
    "print(fruits)\n",
    "fruits.add(5)\n",
    "print(fruits)"
   ]
  },
  {
   "cell_type": "code",
   "execution_count": 86,
   "metadata": {},
   "outputs": [
    {
     "name": "stdout",
     "output_type": "stream",
     "text": [
      "{'cherry', 'banana'}\n",
      "{'cherry', 'watermelon', 'banana'}\n"
     ]
    }
   ],
   "source": [
    "fruits = {'apple', \"banana\", \"cherry\"}\n",
    "fruits.discard('apple')\n",
    "print(fruits)\n",
    "fruits.add('watermelon')\n",
    "print(fruits)"
   ]
  },
  {
   "cell_type": "code",
   "execution_count": null,
   "metadata": {},
   "outputs": [],
   "source": []
  }
 ],
 "metadata": {
  "kernelspec": {
   "display_name": "Python 3",
   "language": "python",
   "name": "python3"
  },
  "language_info": {
   "codemirror_mode": {
    "name": "ipython",
    "version": 3
   },
   "file_extension": ".py",
   "mimetype": "text/x-python",
   "name": "python",
   "nbconvert_exporter": "python",
   "pygments_lexer": "ipython3",
   "version": "3.11.1"
  },
  "orig_nbformat": 4,
  "vscode": {
   "interpreter": {
    "hash": "827bed87de4586fd733a700e497921728b037beef3ab73ffba1a3753ab00f6e3"
   }
  }
 },
 "nbformat": 4,
 "nbformat_minor": 2
}

{
 "cells": [
  {
   "cell_type": "code",
   "execution_count": 7,
   "metadata": {},
   "outputs": [],
   "source": [
    "my_text = \"hellow world\""
   ]
  },
  {
   "cell_type": "code",
   "execution_count": 8,
   "metadata": {},
   "outputs": [
    {
     "name": "stdout",
     "output_type": "stream",
     "text": [
      "hellow world\n"
     ]
    }
   ],
   "source": [
    "print(my_text)"
   ]
  },
  {
   "cell_type": "code",
   "execution_count": 10,
   "metadata": {},
   "outputs": [
    {
     "name": "stdout",
     "output_type": "stream",
     "text": [
      "e\n"
     ]
    }
   ],
   "source": [
    "print( my_text[1] )"
   ]
  },
  {
   "cell_type": "code",
   "execution_count": 6,
   "metadata": {},
   "outputs": [
    {
     "name": "stdout",
     "output_type": "stream",
     "text": [
      "h\n",
      "r\n"
     ]
    }
   ],
   "source": [
    "print( my_text[0] )\n",
    "print( my_text[-2] )"
   ]
  },
  {
   "cell_type": "code",
   "execution_count": 12,
   "metadata": {},
   "outputs": [
    {
     "name": "stdout",
     "output_type": "stream",
     "text": [
      "12\n"
     ]
    }
   ],
   "source": [
    "print(len(my_text))"
   ]
  },
  {
   "cell_type": "code",
   "execution_count": 17,
   "metadata": {},
   "outputs": [
    {
     "name": "stdout",
     "output_type": "stream",
     "text": [
      "ello\n",
      "ell\n",
      "ell\n",
      "he\n",
      "he\n"
     ]
    }
   ],
   "source": [
    "# Hello\n",
    "# * I*** I*\n",
    "# slicing: variable_name[start:end]\n",
    "word = \"hello\"\n",
    "print(word[1:])\n",
    "print(word[1:4])\n",
    "print(word[1:-1])\n",
    "print(word[:2])\n",
    "print(word[0:2])"
   ]
  },
  {
   "cell_type": "code",
   "execution_count": 22,
   "metadata": {},
   "outputs": [
    {
     "name": "stdout",
     "output_type": "stream",
     "text": [
      "ello w\n",
      "ello wor\n",
      "el o\n",
      "eoo\n"
     ]
    }
   ],
   "source": [
    "word = \"hello word\"\n",
    "print(word[1:7])\n",
    "print(word[1:9])\n",
    "print(word[1:9:2])\n",
    "print(word[1:9:3])"
   ]
  },
  {
   "cell_type": "code",
   "execution_count": 29,
   "metadata": {},
   "outputs": [
    {
     "name": "stdout",
     "output_type": "stream",
     "text": [
      "I can't go today\n"
     ]
    }
   ],
   "source": [
    "text = \"I can't go today\"\n",
    "text = 'I can\\'t go today'\n",
    "print (text)\n",
    "text = '''I can't go today'''\n",
    "# ctrl + / uzkomentuoti\n",
    "# paleisti cell shift enter"
   ]
  },
  {
   "cell_type": "code",
   "execution_count": null,
   "metadata": {},
   "outputs": [],
   "source": [
    "number = 5\n",
    "number_symbol = \"5\""
   ]
  },
  {
   "cell_type": "code",
   "execution_count": 38,
   "metadata": {},
   "outputs": [
    {
     "name": "stdout",
     "output_type": "stream",
     "text": [
      "I CAN'T GO TODAY\n",
      "I Can'T Go Today\n",
      "i can't go today\n",
      "I can't go tomorrow\n",
      "2\n",
      "8\n",
      "go today\n"
     ]
    }
   ],
   "source": [
    "text = \"I can't go today\"\n",
    "print(text.upper())\n",
    "print(text.title())\n",
    "print(text.lower())\n",
    "print(text.replace('today', 'tomorrow'))\n",
    "print(text.count('a'))\n",
    "print(text.find('go'))\n",
    "print(text[text.find('go'):])\n"
   ]
  },
  {
   "cell_type": "code",
   "execution_count": 43,
   "metadata": {},
   "outputs": [
    {
     "ename": "NameError",
     "evalue": "name 'name_2' is not defined",
     "output_type": "error",
     "traceback": [
      "\u001b[1;31m---------------------------------------------------------------------------\u001b[0m",
      "\u001b[1;31mNameError\u001b[0m                                 Traceback (most recent call last)",
      "Cell \u001b[1;32mIn[43], line 3\u001b[0m\n\u001b[0;32m      1\u001b[0m \u001b[39m# variable names  bad\u001b[39;00m\n\u001b[0;32m      2\u001b[0m \u001b[39m# 2_name = \"bad\"\u001b[39;00m\n\u001b[1;32m----> 3\u001b[0m name_2 \u001b[39m# yra geerai\u001b[39;00m\n\u001b[0;32m      4\u001b[0m \u001b[39m#  len = 10 bad\u001b[39;00m\n",
      "\u001b[1;31mNameError\u001b[0m: name 'name_2' is not defined"
     ]
    }
   ],
   "source": [
    "# variable names  bad\n",
    "# 2_name = \"bad\"\n",
    "name_2 # yra geerai\n",
    "#  len = 10 bad\n"
   ]
  },
  {
   "cell_type": "code",
   "execution_count": 42,
   "metadata": {},
   "outputs": [],
   "source": [
    "MY_CONSTANT = 25 # pastovus \n",
    "my_number = 32 #kintamas"
   ]
  },
  {
   "cell_type": "code",
   "execution_count": 54,
   "metadata": {},
   "outputs": [
    {
     "name": "stdout",
     "output_type": "stream",
     "text": [
      "Oksana Zvirbliene\n"
     ]
    }
   ],
   "source": [
    "my_name = 'Oksana Zvirbliene'\n",
    "\n",
    "print(my_name)"
   ]
  },
  {
   "cell_type": "code",
   "execution_count": 48,
   "metadata": {},
   "outputs": [
    {
     "name": "stdout",
     "output_type": "stream",
     "text": [
      "Python makes me really happy\n",
      "PYTHON MAKES ME REALLY HAPPY\n"
     ]
    }
   ],
   "source": [
    "string = 'Python makes me really happy'\n",
    "print(string)\n",
    "print(string.upper())"
   ]
  },
  {
   "cell_type": "code",
   "execution_count": 56,
   "metadata": {},
   "outputs": [
    {
     "name": "stdout",
     "output_type": "stream",
     "text": [
      "PyThon makes me really happy\n"
     ]
    }
   ],
   "source": [
    "string = 'Python makes me really happy'\n",
    "print(string.replace('Python', 'PyThon'))"
   ]
  },
  {
   "cell_type": "code",
   "execution_count": 66,
   "metadata": {},
   "outputs": [
    {
     "name": "stdout",
     "output_type": "stream",
     "text": [
      "happy\n",
      "to\n",
      "len 39\n"
     ]
    }
   ],
   "source": [
    "text = 'Hello World, I am happy to learn Python'\n",
    "print(text[18:23])\n",
    "print(text[24:26])\n",
    "print(\"len\", len(text))\n"
   ]
  }
 ],
 "metadata": {
  "kernelspec": {
   "display_name": "Python 3",
   "language": "python",
   "name": "python3"
  },
  "language_info": {
   "codemirror_mode": {
    "name": "ipython",
    "version": 3
   },
   "file_extension": ".py",
   "mimetype": "text/x-python",
   "name": "python",
   "nbconvert_exporter": "python",
   "pygments_lexer": "ipython3",
   "version": "3.11.1"
  },
  "orig_nbformat": 4,
  "vscode": {
   "interpreter": {
    "hash": "827bed87de4586fd733a700e497921728b037beef3ab73ffba1a3753ab00f6e3"
   }
  }
 },
 "nbformat": 4,
 "nbformat_minor": 2
}

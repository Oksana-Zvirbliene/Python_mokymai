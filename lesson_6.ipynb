{
 "cells": [
  {
   "cell_type": "code",
   "execution_count": null,
   "metadata": {},
   "outputs": [],
   "source": [
    "# klaidu sukelimas"
   ]
  },
  {
   "cell_type": "code",
   "execution_count": 2,
   "metadata": {},
   "outputs": [],
   "source": [
    "def add_numbers(a, b):\n",
    "    if not isinstance(a, int):\n",
    "        raise ValueError(f\"kintamojo 'a' verte nera skaicius. Pateikite skaiciu\")\n",
    "    if not isinstance(b, int):\n",
    "        raise ValueError(f\"kintamojo 'b' verte nera skaicius. Pateikite skaiciu\")\n",
    "    return a + b"
   ]
  },
  {
   "cell_type": "code",
   "execution_count": 3,
   "metadata": {},
   "outputs": [
    {
     "data": {
      "text/plain": [
       "9"
      ]
     },
     "execution_count": 3,
     "metadata": {},
     "output_type": "execute_result"
    }
   ],
   "source": [
    "add_numbers(5,4)"
   ]
  },
  {
   "cell_type": "code",
   "execution_count": 4,
   "metadata": {},
   "outputs": [
    {
     "ename": "ValueError",
     "evalue": "kintamojo 'b' verte nera skaicius. Pateikite skaiciu",
     "output_type": "error",
     "traceback": [
      "\u001b[1;31m---------------------------------------------------------------------------\u001b[0m",
      "\u001b[1;31mValueError\u001b[0m                                Traceback (most recent call last)",
      "Cell \u001b[1;32mIn[4], line 1\u001b[0m\n\u001b[1;32m----> 1\u001b[0m add_numbers(\u001b[39m5\u001b[39;49m,\u001b[39m'\u001b[39;49m\u001b[39m4\u001b[39;49m\u001b[39m'\u001b[39;49m)\n",
      "Cell \u001b[1;32mIn[2], line 5\u001b[0m, in \u001b[0;36madd_numbers\u001b[1;34m(a, b)\u001b[0m\n\u001b[0;32m      3\u001b[0m     \u001b[39mraise\u001b[39;00m \u001b[39mValueError\u001b[39;00m(\u001b[39mf\u001b[39m\u001b[39m\"\u001b[39m\u001b[39mkintamojo \u001b[39m\u001b[39m'\u001b[39m\u001b[39ma\u001b[39m\u001b[39m'\u001b[39m\u001b[39m verte nera skaicius. Pateikite skaiciu\u001b[39m\u001b[39m\"\u001b[39m)\n\u001b[0;32m      4\u001b[0m \u001b[39mif\u001b[39;00m \u001b[39mnot\u001b[39;00m \u001b[39misinstance\u001b[39m(b, \u001b[39mint\u001b[39m):\n\u001b[1;32m----> 5\u001b[0m     \u001b[39mraise\u001b[39;00m \u001b[39mValueError\u001b[39;00m(\u001b[39mf\u001b[39m\u001b[39m\"\u001b[39m\u001b[39mkintamojo \u001b[39m\u001b[39m'\u001b[39m\u001b[39mb\u001b[39m\u001b[39m'\u001b[39m\u001b[39m verte nera skaicius. Pateikite skaiciu\u001b[39m\u001b[39m\"\u001b[39m)\n\u001b[0;32m      6\u001b[0m \u001b[39mreturn\u001b[39;00m a \u001b[39m+\u001b[39m b\n",
      "\u001b[1;31mValueError\u001b[0m: kintamojo 'b' verte nera skaicius. Pateikite skaiciu"
     ]
    }
   ],
   "source": [
    "add_numbers(5,'4')"
   ]
  },
  {
   "cell_type": "code",
   "execution_count": 5,
   "metadata": {},
   "outputs": [
    {
     "ename": "NameError",
     "evalue": "name 'name' is not defined",
     "output_type": "error",
     "traceback": [
      "\u001b[1;31m---------------------------------------------------------------------------\u001b[0m",
      "\u001b[1;31mNameError\u001b[0m                                 Traceback (most recent call last)",
      "Cell \u001b[1;32mIn[5], line 1\u001b[0m\n\u001b[1;32m----> 1\u001b[0m \u001b[39mprint\u001b[39m(name)\n",
      "\u001b[1;31mNameError\u001b[0m: name 'name' is not defined"
     ]
    }
   ],
   "source": [
    "print(name)\n"
   ]
  },
  {
   "cell_type": "code",
   "execution_count": 6,
   "metadata": {},
   "outputs": [
    {
     "name": "stdout",
     "output_type": "stream",
     "text": [
      "Kodo pradzia\n",
      "ivyko klaida\n",
      "kodo pabaiga\n"
     ]
    }
   ],
   "source": [
    "try:\n",
    "    print ('Kodo pradzia')\n",
    "    print(name)\n",
    "    print('try pabaiga')\n",
    "except:\n",
    "    print('ivyko klaida')\n",
    "print ('kodo pabaiga')"
   ]
  },
  {
   "cell_type": "code",
   "execution_count": 8,
   "metadata": {},
   "outputs": [
    {
     "name": "stdout",
     "output_type": "stream",
     "text": [
      "Kodo pradzia\n",
      "kodo pabaiga\n"
     ]
    }
   ],
   "source": [
    "try:\n",
    "    print ('Kodo pradzia')\n",
    "    #print(name)\n",
    "    #print('try pabaiga')\n",
    "except:\n",
    "    print('ivyko klaida')\n",
    "print ('kodo pabaiga')"
   ]
  },
  {
   "cell_type": "code",
   "execution_count": 7,
   "metadata": {},
   "outputs": [
    {
     "name": "stdout",
     "output_type": "stream",
     "text": [
      "Kodo pradzia\n",
      "name 'my_list' is not defined\n",
      "Visada bus atspausdinta\n"
     ]
    }
   ],
   "source": [
    "try:\n",
    "    print ('Kodo pradzia')\n",
    "    # 5/0\n",
    "    # print(name)\n",
    "    my_list[56]\n",
    "    print('try pabaiga')\n",
    "except NameError as e: # NENAUDOTI except  be klaidos tipo\n",
    "    print(e)\n",
    "except ZeroDivisionError as e:\n",
    "    print('Bandete dalinti is 0')\n",
    "    print (e)\n",
    "finally:\n",
    "    print ('Visada bus atspausdinta') # atspausdina net jei ivyko klaida"
   ]
  },
  {
   "cell_type": "code",
   "execution_count": 9,
   "metadata": {},
   "outputs": [],
   "source": [
    "# os biblioteka\n",
    "\n",
    "import os"
   ]
  },
  {
   "cell_type": "code",
   "execution_count": 11,
   "metadata": {},
   "outputs": [
    {
     "data": {
      "text/plain": [
       "'c:\\\\Users\\\\Studentas\\\\Desktop\\\\github\\\\Python_mokymai'"
      ]
     },
     "execution_count": 11,
     "metadata": {},
     "output_type": "execute_result"
    }
   ],
   "source": [
    "os.getcwd() #get current working directory"
   ]
  },
  {
   "cell_type": "code",
   "execution_count": 12,
   "metadata": {},
   "outputs": [],
   "source": [
    "# os.mkdir() sukuriantik viena aplamkala\n",
    "os.makedirs('test1/test2/test3')  #gali daugiau"
   ]
  },
  {
   "cell_type": "code",
   "execution_count": 14,
   "metadata": {},
   "outputs": [
    {
     "ename": "FileNotFoundError",
     "evalue": "[WinError 3] The system cannot find the path specified: 'test1/test2/test3'",
     "output_type": "error",
     "traceback": [
      "\u001b[1;31m---------------------------------------------------------------------------\u001b[0m",
      "\u001b[1;31mFileNotFoundError\u001b[0m                         Traceback (most recent call last)",
      "Cell \u001b[1;32mIn[14], line 1\u001b[0m\n\u001b[1;32m----> 1\u001b[0m os\u001b[39m.\u001b[39;49mremovedirs(\u001b[39m'\u001b[39;49m\u001b[39mtest1/test2/test3\u001b[39;49m\u001b[39m'\u001b[39;49m) \u001b[39m#istrina tik tuscius aplamkalaus\u001b[39;00m\n\u001b[0;32m      2\u001b[0m os\u001b[39m.\u001b[39mremovedirs(\u001b[39m'\u001b[39m\u001b[39mtest1/test2/test3\u001b[39m\u001b[39m'\u001b[39m)\n",
      "File \u001b[1;32m<frozen os>:243\u001b[0m, in \u001b[0;36mremovedirs\u001b[1;34m(name)\u001b[0m\n",
      "\u001b[1;31mFileNotFoundError\u001b[0m: [WinError 3] The system cannot find the path specified: 'test1/test2/test3'"
     ]
    }
   ],
   "source": [
    "os.removedirs('test1/test2/test3') #istrina tik tuscius aplamkalaus\n",
    "os.removedirs('test1/test2/test3', exist_ok) "
   ]
  },
  {
   "cell_type": "code",
   "execution_count": 17,
   "metadata": {},
   "outputs": [
    {
     "name": "stdout",
     "output_type": "stream",
     "text": [
      "Hello world\n"
     ]
    }
   ],
   "source": [
    "with open('tekstas.txt', mode='r') as fr:\n",
    "    texts = fr.read()\n",
    "\n",
    "\n",
    "print((texts))"
   ]
  },
  {
   "cell_type": "code",
   "execution_count": 20,
   "metadata": {},
   "outputs": [],
   "source": [
    "out_text = \"hello from python\\n\"\n",
    "out_text_2 = \"seconfd line\"\n",
    "\n",
    "with open('tekstas.txt', mode='w') as wr:\n",
    "    wr.write(out_text)\n",
    "    wr.write(out_text_2)"
   ]
  },
  {
   "cell_type": "code",
   "execution_count": 22,
   "metadata": {},
   "outputs": [],
   "source": [
    "# json\n",
    "\n",
    "my_dict = {\n",
    "    'names': 'Darius',\n",
    "    'hobbies': ['tennis', 'bicycle']\n",
    "}"
   ]
  },
  {
   "cell_type": "code",
   "execution_count": 23,
   "metadata": {},
   "outputs": [],
   "source": [
    "import json\n",
    "\n",
    "with open('person.json', 'w') as fw: # bet koks pavadinimas\n",
    "    json.dump( my_dict, fw )"
   ]
  },
  {
   "cell_type": "code",
   "execution_count": 24,
   "metadata": {},
   "outputs": [
    {
     "name": "stdout",
     "output_type": "stream",
     "text": [
      "{'names': 'Darius', 'hobbies': ['tennis', 'bicycle']}\n",
      "<class 'dict'>\n"
     ]
    }
   ],
   "source": [
    "with open('person.json', 'r') as any_variable_name: # bet koks pavadinimas\n",
    "    loaded_dict = json.load(any_variable_name)\n",
    "\n",
    "print(loaded_dict)\n",
    "print(type(loaded_dict))"
   ]
  }
 ],
 "metadata": {
  "kernelspec": {
   "display_name": "Python 3",
   "language": "python",
   "name": "python3"
  },
  "language_info": {
   "codemirror_mode": {
    "name": "ipython",
    "version": 3
   },
   "file_extension": ".py",
   "mimetype": "text/x-python",
   "name": "python",
   "nbconvert_exporter": "python",
   "pygments_lexer": "ipython3",
   "version": "3.11.1"
  },
  "orig_nbformat": 4,
  "vscode": {
   "interpreter": {
    "hash": "827bed87de4586fd733a700e497921728b037beef3ab73ffba1a3753ab00f6e3"
   }
  }
 },
 "nbformat": 4,
 "nbformat_minor": 2
}
